{
  "nbformat": 4,
  "nbformat_minor": 0,
  "metadata": {
    "colab": {
      "name": "Voting Classifier",
      "provenance": [],
      "collapsed_sections": [],
      "toc_visible": true,
      "mount_file_id": "1rPWzqIXxGPYEqhja1xosmTPTUykZSeQ0",
      "authorship_tag": "ABX9TyMOzDXNHS5c72pkEiDXMchq",
      "include_colab_link": true
    },
    "kernelspec": {
      "name": "python3",
      "display_name": "Python 3"
    }
  },
  "cells": [
    {
      "cell_type": "markdown",
      "metadata": {
        "id": "view-in-github",
        "colab_type": "text"
      },
      "source": [
        "<a href=\"https://colab.research.google.com/github/Precillieo/dsn20/blob/master/Voting_Classifier.ipynb\" target=\"_parent\"><img src=\"https://colab.research.google.com/assets/colab-badge.svg\" alt=\"Open In Colab\"/></a>"
      ]
    },
    {
      "cell_type": "code",
      "metadata": {
        "id": "esMlgwNXX4aA"
      },
      "source": [
        ""
      ],
      "execution_count": null,
      "outputs": []
    },
    {
      "cell_type": "markdown",
      "metadata": {
        "id": "1uoIQAPlX5VN"
      },
      "source": [
        "# **DSN** **2020**"
      ]
    },
    {
      "cell_type": "code",
      "metadata": {
        "id": "w8BUx7wFpQBE",
        "outputId": "448b9fe2-9aea-488d-8501-10ace427964c",
        "colab": {
          "base_uri": "https://localhost:8080/",
          "height": 377
        }
      },
      "source": [
        "import numpy as np\n",
        "import pandas as pd\n",
        "from pandas import DataFrame\n",
        "import matplotlib.pyplot as plt\n",
        "import seaborn as sns\n",
        "%matplotlib inline \n",
        "\n",
        "from sklearn.preprocessing import LabelEncoder, MinMaxScaler\n",
        "from sklearn.metrics import  roc_auc_score, accuracy_score\n",
        "from sklearn.model_selection import KFold, StratifiedKFold, train_test_split, cross_val_score\n",
        "from sklearn.metrics import classification_report\n",
        "\n",
        "from lightgbm import LGBMClassifier\n",
        "!pip install rgf_python\n",
        "from rgf.sklearn import RGFClassifier\n",
        "from sklearn.ensemble import VotingClassifier\n",
        "!pip install catboost\n",
        "from catboost import CatBoostClassifier\n",
        "import warnings\n"
      ],
      "execution_count": null,
      "outputs": [
        {
          "output_type": "stream",
          "text": [
            "Requirement already satisfied: rgf_python in /usr/local/lib/python3.6/dist-packages (3.9.0)\n",
            "Requirement already satisfied: joblib in /usr/local/lib/python3.6/dist-packages (from rgf_python) (0.16.0)\n",
            "Requirement already satisfied: six in /usr/local/lib/python3.6/dist-packages (from rgf_python) (1.15.0)\n",
            "Requirement already satisfied: scikit-learn>=0.18 in /usr/local/lib/python3.6/dist-packages (from rgf_python) (0.22.2.post1)\n",
            "Requirement already satisfied: numpy>=1.11.0 in /usr/local/lib/python3.6/dist-packages (from scikit-learn>=0.18->rgf_python) (1.18.5)\n",
            "Requirement already satisfied: scipy>=0.17.0 in /usr/local/lib/python3.6/dist-packages (from scikit-learn>=0.18->rgf_python) (1.4.1)\n",
            "Requirement already satisfied: catboost in /usr/local/lib/python3.6/dist-packages (0.24.1)\n",
            "Requirement already satisfied: plotly in /usr/local/lib/python3.6/dist-packages (from catboost) (4.4.1)\n",
            "Requirement already satisfied: graphviz in /usr/local/lib/python3.6/dist-packages (from catboost) (0.10.1)\n",
            "Requirement already satisfied: matplotlib in /usr/local/lib/python3.6/dist-packages (from catboost) (3.2.2)\n",
            "Requirement already satisfied: numpy>=1.16.0 in /usr/local/lib/python3.6/dist-packages (from catboost) (1.18.5)\n",
            "Requirement already satisfied: pandas>=0.24.0 in /usr/local/lib/python3.6/dist-packages (from catboost) (1.1.2)\n",
            "Requirement already satisfied: six in /usr/local/lib/python3.6/dist-packages (from catboost) (1.15.0)\n",
            "Requirement already satisfied: scipy in /usr/local/lib/python3.6/dist-packages (from catboost) (1.4.1)\n",
            "Requirement already satisfied: retrying>=1.3.3 in /usr/local/lib/python3.6/dist-packages (from plotly->catboost) (1.3.3)\n",
            "Requirement already satisfied: cycler>=0.10 in /usr/local/lib/python3.6/dist-packages (from matplotlib->catboost) (0.10.0)\n",
            "Requirement already satisfied: python-dateutil>=2.1 in /usr/local/lib/python3.6/dist-packages (from matplotlib->catboost) (2.8.1)\n",
            "Requirement already satisfied: kiwisolver>=1.0.1 in /usr/local/lib/python3.6/dist-packages (from matplotlib->catboost) (1.2.0)\n",
            "Requirement already satisfied: pyparsing!=2.0.4,!=2.1.2,!=2.1.6,>=2.0.1 in /usr/local/lib/python3.6/dist-packages (from matplotlib->catboost) (2.4.7)\n",
            "Requirement already satisfied: pytz>=2017.2 in /usr/local/lib/python3.6/dist-packages (from pandas>=0.24.0->catboost) (2018.9)\n"
          ],
          "name": "stdout"
        }
      ]
    },
    {
      "cell_type": "code",
      "metadata": {
        "id": "gD9Mk42NpxCq"
      },
      "source": [
        "train= pd.read_csv('/content/drive/My Drive/Bootcamp2020/Train.csv')\n",
        "test= pd.read_csv(\"/content/drive/My Drive/Bootcamp2020/Test.csv\")"
      ],
      "execution_count": null,
      "outputs": []
    },
    {
      "cell_type": "code",
      "metadata": {
        "id": "HfLgHjC4u1fZ",
        "outputId": "67865935-90ec-4dc3-9c86-9fbc934e4138",
        "colab": {
          "base_uri": "https://localhost:8080/",
          "height": 379
        }
      },
      "source": [
        "train.head(10)"
      ],
      "execution_count": null,
      "outputs": [
        {
          "output_type": "execute_result",
          "data": {
            "text/html": [
              "<div>\n",
              "<style scoped>\n",
              "    .dataframe tbody tr th:only-of-type {\n",
              "        vertical-align: middle;\n",
              "    }\n",
              "\n",
              "    .dataframe tbody tr th {\n",
              "        vertical-align: top;\n",
              "    }\n",
              "\n",
              "    .dataframe thead th {\n",
              "        text-align: right;\n",
              "    }\n",
              "</style>\n",
              "<table border=\"1\" class=\"dataframe\">\n",
              "  <thead>\n",
              "    <tr style=\"text-align: right;\">\n",
              "      <th></th>\n",
              "      <th>Applicant_ID</th>\n",
              "      <th>form_field1</th>\n",
              "      <th>form_field2</th>\n",
              "      <th>form_field3</th>\n",
              "      <th>form_field4</th>\n",
              "      <th>form_field5</th>\n",
              "      <th>form_field6</th>\n",
              "      <th>form_field7</th>\n",
              "      <th>form_field8</th>\n",
              "      <th>form_field9</th>\n",
              "      <th>form_field10</th>\n",
              "      <th>form_field11</th>\n",
              "      <th>form_field12</th>\n",
              "      <th>form_field13</th>\n",
              "      <th>form_field14</th>\n",
              "      <th>form_field15</th>\n",
              "      <th>form_field16</th>\n",
              "      <th>form_field17</th>\n",
              "      <th>form_field18</th>\n",
              "      <th>form_field19</th>\n",
              "      <th>form_field20</th>\n",
              "      <th>form_field21</th>\n",
              "      <th>form_field22</th>\n",
              "      <th>form_field23</th>\n",
              "      <th>form_field24</th>\n",
              "      <th>form_field25</th>\n",
              "      <th>form_field26</th>\n",
              "      <th>form_field27</th>\n",
              "      <th>form_field28</th>\n",
              "      <th>form_field29</th>\n",
              "      <th>form_field30</th>\n",
              "      <th>form_field31</th>\n",
              "      <th>form_field32</th>\n",
              "      <th>form_field33</th>\n",
              "      <th>form_field34</th>\n",
              "      <th>form_field35</th>\n",
              "      <th>form_field36</th>\n",
              "      <th>form_field37</th>\n",
              "      <th>form_field38</th>\n",
              "      <th>form_field39</th>\n",
              "      <th>form_field40</th>\n",
              "      <th>form_field41</th>\n",
              "      <th>form_field42</th>\n",
              "      <th>form_field43</th>\n",
              "      <th>form_field44</th>\n",
              "      <th>form_field45</th>\n",
              "      <th>form_field46</th>\n",
              "      <th>form_field47</th>\n",
              "      <th>form_field48</th>\n",
              "      <th>form_field49</th>\n",
              "      <th>form_field50</th>\n",
              "      <th>default_status</th>\n",
              "    </tr>\n",
              "  </thead>\n",
              "  <tbody>\n",
              "    <tr>\n",
              "      <th>0</th>\n",
              "      <td>Apcnt_1000000</td>\n",
              "      <td>3436.0</td>\n",
              "      <td>0.28505</td>\n",
              "      <td>1.6560</td>\n",
              "      <td>0.0</td>\n",
              "      <td>0.0000</td>\n",
              "      <td>0.0</td>\n",
              "      <td>10689720.0</td>\n",
              "      <td>252072.0</td>\n",
              "      <td>4272776.0</td>\n",
              "      <td>11333126.0</td>\n",
              "      <td>4397256.0</td>\n",
              "      <td>2301324.0</td>\n",
              "      <td>7875694.0</td>\n",
              "      <td>96375139</td>\n",
              "      <td>112181765.0</td>\n",
              "      <td>1.0</td>\n",
              "      <td>1.0</td>\n",
              "      <td>1.0</td>\n",
              "      <td>3.0</td>\n",
              "      <td>3.0</td>\n",
              "      <td>134.655</td>\n",
              "      <td>NaN</td>\n",
              "      <td>NaN</td>\n",
              "      <td>134.655</td>\n",
              "      <td>4000.5</td>\n",
              "      <td>17064.0</td>\n",
              "      <td>11376.0</td>\n",
              "      <td>60.0</td>\n",
              "      <td>17064.0</td>\n",
              "      <td>5962.0</td>\n",
              "      <td>NaN</td>\n",
              "      <td>1052.0</td>\n",
              "      <td>8.0000</td>\n",
              "      <td>2.0</td>\n",
              "      <td>NaN</td>\n",
              "      <td>12.0</td>\n",
              "      <td>12.0</td>\n",
              "      <td>4.0</td>\n",
              "      <td>0.0</td>\n",
              "      <td>NaN</td>\n",
              "      <td>NaN</td>\n",
              "      <td>0.392854</td>\n",
              "      <td>2.02</td>\n",
              "      <td>0.711632</td>\n",
              "      <td>0.0</td>\n",
              "      <td>0.0</td>\n",
              "      <td>charge</td>\n",
              "      <td>NaN</td>\n",
              "      <td>1.129518</td>\n",
              "      <td>0.044335</td>\n",
              "      <td>no</td>\n",
              "    </tr>\n",
              "    <tr>\n",
              "      <th>1</th>\n",
              "      <td>Apcnt_1000004</td>\n",
              "      <td>3456.0</td>\n",
              "      <td>0.67400</td>\n",
              "      <td>0.2342</td>\n",
              "      <td>0.0</td>\n",
              "      <td>0.0000</td>\n",
              "      <td>0.0</td>\n",
              "      <td>898979.0</td>\n",
              "      <td>497531.0</td>\n",
              "      <td>9073814.0</td>\n",
              "      <td>2533168.0</td>\n",
              "      <td>244292.0</td>\n",
              "      <td>3982971.0</td>\n",
              "      <td>2141445.0</td>\n",
              "      <td>28141427</td>\n",
              "      <td>45169902.0</td>\n",
              "      <td>1.0</td>\n",
              "      <td>1.0</td>\n",
              "      <td>1.0</td>\n",
              "      <td>2.0</td>\n",
              "      <td>2.0</td>\n",
              "      <td>109.230</td>\n",
              "      <td>11385.240</td>\n",
              "      <td>14584.29</td>\n",
              "      <td>86.685</td>\n",
              "      <td>4161.0</td>\n",
              "      <td>13413.0</td>\n",
              "      <td>8942.0</td>\n",
              "      <td>304.0</td>\n",
              "      <td>13413.0</td>\n",
              "      <td>5780.0</td>\n",
              "      <td>NaN</td>\n",
              "      <td>2554.0</td>\n",
              "      <td>17.5000</td>\n",
              "      <td>0.0</td>\n",
              "      <td>0.0</td>\n",
              "      <td>16.0</td>\n",
              "      <td>24.0</td>\n",
              "      <td>8.0</td>\n",
              "      <td>0.0</td>\n",
              "      <td>NaN</td>\n",
              "      <td>NaN</td>\n",
              "      <td>0.314281</td>\n",
              "      <td>8.08</td>\n",
              "      <td>0.183584</td>\n",
              "      <td>NaN</td>\n",
              "      <td>0.0</td>\n",
              "      <td>charge</td>\n",
              "      <td>349.805730</td>\n",
              "      <td>1.620483</td>\n",
              "      <td>0.322436</td>\n",
              "      <td>no</td>\n",
              "    </tr>\n",
              "    <tr>\n",
              "      <th>2</th>\n",
              "      <td>Apcnt_1000008</td>\n",
              "      <td>3276.0</td>\n",
              "      <td>0.53845</td>\n",
              "      <td>3.1510</td>\n",
              "      <td>0.0</td>\n",
              "      <td>6.2820</td>\n",
              "      <td>NaN</td>\n",
              "      <td>956940.0</td>\n",
              "      <td>NaN</td>\n",
              "      <td>192944.0</td>\n",
              "      <td>1079864.0</td>\n",
              "      <td>NaN</td>\n",
              "      <td>NaN</td>\n",
              "      <td>0.0</td>\n",
              "      <td>16576457</td>\n",
              "      <td>22452691.0</td>\n",
              "      <td>NaN</td>\n",
              "      <td>NaN</td>\n",
              "      <td>NaN</td>\n",
              "      <td>0.0</td>\n",
              "      <td>0.0</td>\n",
              "      <td>NaN</td>\n",
              "      <td>NaN</td>\n",
              "      <td>NaN</td>\n",
              "      <td>NaN</td>\n",
              "      <td>1597.5</td>\n",
              "      <td>4746.0</td>\n",
              "      <td>3164.0</td>\n",
              "      <td>60.0</td>\n",
              "      <td>15696.0</td>\n",
              "      <td>NaN</td>\n",
              "      <td>14508.0</td>\n",
              "      <td>70.0</td>\n",
              "      <td>0.6666</td>\n",
              "      <td>0.0</td>\n",
              "      <td>NaN</td>\n",
              "      <td>12.0</td>\n",
              "      <td>0.0</td>\n",
              "      <td>6.0</td>\n",
              "      <td>0.0</td>\n",
              "      <td>149.6805</td>\n",
              "      <td>NaN</td>\n",
              "      <td>0.162965</td>\n",
              "      <td>18.18</td>\n",
              "      <td>0.791136</td>\n",
              "      <td>0.0</td>\n",
              "      <td>0.0</td>\n",
              "      <td>charge</td>\n",
              "      <td>NaN</td>\n",
              "      <td>1.513370</td>\n",
              "      <td>0.011640</td>\n",
              "      <td>yes</td>\n",
              "    </tr>\n",
              "    <tr>\n",
              "      <th>3</th>\n",
              "      <td>Apcnt_1000012</td>\n",
              "      <td>3372.0</td>\n",
              "      <td>0.17005</td>\n",
              "      <td>0.5050</td>\n",
              "      <td>0.0</td>\n",
              "      <td>0.0000</td>\n",
              "      <td>192166.0</td>\n",
              "      <td>3044703.0</td>\n",
              "      <td>385499.0</td>\n",
              "      <td>3986472.0</td>\n",
              "      <td>3621979.0</td>\n",
              "      <td>NaN</td>\n",
              "      <td>771776.0</td>\n",
              "      <td>1186839.0</td>\n",
              "      <td>48187375</td>\n",
              "      <td>136297820.0</td>\n",
              "      <td>0.0</td>\n",
              "      <td>0.0</td>\n",
              "      <td>0.0</td>\n",
              "      <td>1.0</td>\n",
              "      <td>1.0</td>\n",
              "      <td>120.120</td>\n",
              "      <td>8580.000</td>\n",
              "      <td>0.00</td>\n",
              "      <td>85.800</td>\n",
              "      <td>1701.0</td>\n",
              "      <td>4014.0</td>\n",
              "      <td>2676.0</td>\n",
              "      <td>60.0</td>\n",
              "      <td>11679.0</td>\n",
              "      <td>NaN</td>\n",
              "      <td>NaN</td>\n",
              "      <td>522.0</td>\n",
              "      <td>7.8334</td>\n",
              "      <td>1.0</td>\n",
              "      <td>1.0</td>\n",
              "      <td>4.0</td>\n",
              "      <td>8.0</td>\n",
              "      <td>4.0</td>\n",
              "      <td>1.0</td>\n",
              "      <td>NaN</td>\n",
              "      <td>NaN</td>\n",
              "      <td>0.488884</td>\n",
              "      <td>2.02</td>\n",
              "      <td>0.685168</td>\n",
              "      <td>NaN</td>\n",
              "      <td>0.0</td>\n",
              "      <td>charge</td>\n",
              "      <td>89.940100</td>\n",
              "      <td>0.664452</td>\n",
              "      <td>0.082729</td>\n",
              "      <td>no</td>\n",
              "    </tr>\n",
              "    <tr>\n",
              "      <th>4</th>\n",
              "      <td>Apcnt_1000016</td>\n",
              "      <td>3370.0</td>\n",
              "      <td>0.77270</td>\n",
              "      <td>1.1010</td>\n",
              "      <td>0.0</td>\n",
              "      <td>0.0000</td>\n",
              "      <td>1556.0</td>\n",
              "      <td>214728.0</td>\n",
              "      <td>214728.0</td>\n",
              "      <td>1284089.0</td>\n",
              "      <td>361770.0</td>\n",
              "      <td>396391.0</td>\n",
              "      <td>818456.0</td>\n",
              "      <td>511535.0</td>\n",
              "      <td>28141427</td>\n",
              "      <td>15292757.0</td>\n",
              "      <td>0.0</td>\n",
              "      <td>0.0</td>\n",
              "      <td>0.0</td>\n",
              "      <td>3.0</td>\n",
              "      <td>3.0</td>\n",
              "      <td>104.535</td>\n",
              "      <td>8360.190</td>\n",
              "      <td>10326.45</td>\n",
              "      <td>115.335</td>\n",
              "      <td>1551.0</td>\n",
              "      <td>3285.0</td>\n",
              "      <td>2190.0</td>\n",
              "      <td>60.0</td>\n",
              "      <td>19437.0</td>\n",
              "      <td>12958.0</td>\n",
              "      <td>5202.0</td>\n",
              "      <td>272.0</td>\n",
              "      <td>1.0000</td>\n",
              "      <td>0.0</td>\n",
              "      <td>0.0</td>\n",
              "      <td>24.0</td>\n",
              "      <td>2.0</td>\n",
              "      <td>24.0</td>\n",
              "      <td>0.0</td>\n",
              "      <td>150.0135</td>\n",
              "      <td>NaN</td>\n",
              "      <td>0.275000</td>\n",
              "      <td>12.12</td>\n",
              "      <td>0.438168</td>\n",
              "      <td>0.0</td>\n",
              "      <td>0.0</td>\n",
              "      <td>charge</td>\n",
              "      <td>97.887502</td>\n",
              "      <td>1.427891</td>\n",
              "      <td>0.045630</td>\n",
              "      <td>no</td>\n",
              "    </tr>\n",
              "    <tr>\n",
              "      <th>5</th>\n",
              "      <td>Apcnt_1000020</td>\n",
              "      <td>3724.0</td>\n",
              "      <td>NaN</td>\n",
              "      <td>0.0000</td>\n",
              "      <td>0.0</td>\n",
              "      <td>0.0000</td>\n",
              "      <td>192944.0</td>\n",
              "      <td>9244585.0</td>\n",
              "      <td>6761209.0</td>\n",
              "      <td>67963357.0</td>\n",
              "      <td>32902009.0</td>\n",
              "      <td>NaN</td>\n",
              "      <td>976390.0</td>\n",
              "      <td>2114215.0</td>\n",
              "      <td>16576457</td>\n",
              "      <td>NaN</td>\n",
              "      <td>0.0</td>\n",
              "      <td>0.0</td>\n",
              "      <td>0.0</td>\n",
              "      <td>0.0</td>\n",
              "      <td>0.0</td>\n",
              "      <td>8.385</td>\n",
              "      <td>NaN</td>\n",
              "      <td>NaN</td>\n",
              "      <td>4.845</td>\n",
              "      <td>2590.5</td>\n",
              "      <td>22083.0</td>\n",
              "      <td>14722.0</td>\n",
              "      <td>3772.0</td>\n",
              "      <td>22083.0</td>\n",
              "      <td>NaN</td>\n",
              "      <td>NaN</td>\n",
              "      <td>3858.0</td>\n",
              "      <td>31.0000</td>\n",
              "      <td>0.0</td>\n",
              "      <td>NaN</td>\n",
              "      <td>10.0</td>\n",
              "      <td>60.0</td>\n",
              "      <td>0.0</td>\n",
              "      <td>0.0</td>\n",
              "      <td>NaN</td>\n",
              "      <td>NaN</td>\n",
              "      <td>0.030558</td>\n",
              "      <td>12.12</td>\n",
              "      <td>0.382960</td>\n",
              "      <td>NaN</td>\n",
              "      <td>0.0</td>\n",
              "      <td>lending</td>\n",
              "      <td>NaN</td>\n",
              "      <td>0.000000</td>\n",
              "      <td>NaN</td>\n",
              "      <td>no</td>\n",
              "    </tr>\n",
              "    <tr>\n",
              "      <th>6</th>\n",
              "      <td>Apcnt_1000024</td>\n",
              "      <td>3350.0</td>\n",
              "      <td>0.24205</td>\n",
              "      <td>0.3132</td>\n",
              "      <td>0.0</td>\n",
              "      <td>2.8188</td>\n",
              "      <td>NaN</td>\n",
              "      <td>580388.0</td>\n",
              "      <td>NaN</td>\n",
              "      <td>96472.0</td>\n",
              "      <td>580388.0</td>\n",
              "      <td>631347.0</td>\n",
              "      <td>NaN</td>\n",
              "      <td>0.0</td>\n",
              "      <td>21973443</td>\n",
              "      <td>91602498.0</td>\n",
              "      <td>NaN</td>\n",
              "      <td>NaN</td>\n",
              "      <td>NaN</td>\n",
              "      <td>0.0</td>\n",
              "      <td>0.0</td>\n",
              "      <td>NaN</td>\n",
              "      <td>NaN</td>\n",
              "      <td>NaN</td>\n",
              "      <td>NaN</td>\n",
              "      <td>822.0</td>\n",
              "      <td>NaN</td>\n",
              "      <td>NaN</td>\n",
              "      <td>426.0</td>\n",
              "      <td>13413.0</td>\n",
              "      <td>NaN</td>\n",
              "      <td>13413.0</td>\n",
              "      <td>36.0</td>\n",
              "      <td>14.3334</td>\n",
              "      <td>0.0</td>\n",
              "      <td>NaN</td>\n",
              "      <td>12.0</td>\n",
              "      <td>2.0</td>\n",
              "      <td>2.0</td>\n",
              "      <td>0.0</td>\n",
              "      <td>153.8745</td>\n",
              "      <td>NaN</td>\n",
              "      <td>0.660000</td>\n",
              "      <td>1.01</td>\n",
              "      <td>0.513504</td>\n",
              "      <td>NaN</td>\n",
              "      <td>0.0</td>\n",
              "      <td>charge</td>\n",
              "      <td>NaN</td>\n",
              "      <td>2.146512</td>\n",
              "      <td>0.004390</td>\n",
              "      <td>yes</td>\n",
              "    </tr>\n",
              "    <tr>\n",
              "      <th>7</th>\n",
              "      <td>Apcnt_1000028</td>\n",
              "      <td>3416.0</td>\n",
              "      <td>0.87020</td>\n",
              "      <td>0.0570</td>\n",
              "      <td>0.0</td>\n",
              "      <td>0.0000</td>\n",
              "      <td>17505.0</td>\n",
              "      <td>186331.0</td>\n",
              "      <td>186331.0</td>\n",
              "      <td>1484813.0</td>\n",
              "      <td>326760.0</td>\n",
              "      <td>50959.0</td>\n",
              "      <td>1284089.0</td>\n",
              "      <td>5633109.0</td>\n",
              "      <td>11564970</td>\n",
              "      <td>18211813.0</td>\n",
              "      <td>0.0</td>\n",
              "      <td>0.0</td>\n",
              "      <td>0.0</td>\n",
              "      <td>1.0</td>\n",
              "      <td>1.0</td>\n",
              "      <td>124.980</td>\n",
              "      <td>8267.655</td>\n",
              "      <td>7755.00</td>\n",
              "      <td>82.680</td>\n",
              "      <td>1498.5</td>\n",
              "      <td>1734.0</td>\n",
              "      <td>1156.0</td>\n",
              "      <td>548.0</td>\n",
              "      <td>15240.0</td>\n",
              "      <td>182.0</td>\n",
              "      <td>NaN</td>\n",
              "      <td>460.0</td>\n",
              "      <td>5.5000</td>\n",
              "      <td>0.0</td>\n",
              "      <td>1.0</td>\n",
              "      <td>10.0</td>\n",
              "      <td>6.0</td>\n",
              "      <td>12.0</td>\n",
              "      <td>0.0</td>\n",
              "      <td>NaN</td>\n",
              "      <td>149.0190</td>\n",
              "      <td>0.137500</td>\n",
              "      <td>3.03</td>\n",
              "      <td>0.635960</td>\n",
              "      <td>NaN</td>\n",
              "      <td>0.0</td>\n",
              "      <td>charge</td>\n",
              "      <td>155.295994</td>\n",
              "      <td>0.946074</td>\n",
              "      <td>0.128389</td>\n",
              "      <td>no</td>\n",
              "    </tr>\n",
              "    <tr>\n",
              "      <th>8</th>\n",
              "      <td>Apcnt_1000036</td>\n",
              "      <td>3376.0</td>\n",
              "      <td>0.29180</td>\n",
              "      <td>0.5586</td>\n",
              "      <td>0.0</td>\n",
              "      <td>0.0000</td>\n",
              "      <td>18283.0</td>\n",
              "      <td>1105149.0</td>\n",
              "      <td>18283.0</td>\n",
              "      <td>115533.0</td>\n",
              "      <td>1557167.0</td>\n",
              "      <td>752715.0</td>\n",
              "      <td>97639.0</td>\n",
              "      <td>427511.0</td>\n",
              "      <td>11564970</td>\n",
              "      <td>NaN</td>\n",
              "      <td>0.0</td>\n",
              "      <td>0.0</td>\n",
              "      <td>0.0</td>\n",
              "      <td>1.0</td>\n",
              "      <td>2.0</td>\n",
              "      <td>126.495</td>\n",
              "      <td>NaN</td>\n",
              "      <td>NaN</td>\n",
              "      <td>126.495</td>\n",
              "      <td>1597.5</td>\n",
              "      <td>3195.0</td>\n",
              "      <td>2130.0</td>\n",
              "      <td>182.0</td>\n",
              "      <td>3741.0</td>\n",
              "      <td>1034.0</td>\n",
              "      <td>NaN</td>\n",
              "      <td>70.0</td>\n",
              "      <td>34.8334</td>\n",
              "      <td>1.0</td>\n",
              "      <td>NaN</td>\n",
              "      <td>14.0</td>\n",
              "      <td>0.0</td>\n",
              "      <td>8.0</td>\n",
              "      <td>0.0</td>\n",
              "      <td>NaN</td>\n",
              "      <td>102.2625</td>\n",
              "      <td>0.471427</td>\n",
              "      <td>4.04</td>\n",
              "      <td>0.410880</td>\n",
              "      <td>0.0</td>\n",
              "      <td>0.0</td>\n",
              "      <td>charge</td>\n",
              "      <td>NaN</td>\n",
              "      <td>0.641601</td>\n",
              "      <td>0.009990</td>\n",
              "      <td>no</td>\n",
              "    </tr>\n",
              "    <tr>\n",
              "      <th>9</th>\n",
              "      <td>Apcnt_1000040</td>\n",
              "      <td>3310.0</td>\n",
              "      <td>0.24395</td>\n",
              "      <td>0.1562</td>\n",
              "      <td>0.0</td>\n",
              "      <td>0.0000</td>\n",
              "      <td>NaN</td>\n",
              "      <td>0.0</td>\n",
              "      <td>NaN</td>\n",
              "      <td>NaN</td>\n",
              "      <td>0.0</td>\n",
              "      <td>208115.0</td>\n",
              "      <td>NaN</td>\n",
              "      <td>NaN</td>\n",
              "      <td>11564970</td>\n",
              "      <td>NaN</td>\n",
              "      <td>NaN</td>\n",
              "      <td>NaN</td>\n",
              "      <td>NaN</td>\n",
              "      <td>0.0</td>\n",
              "      <td>0.0</td>\n",
              "      <td>NaN</td>\n",
              "      <td>NaN</td>\n",
              "      <td>NaN</td>\n",
              "      <td>NaN</td>\n",
              "      <td>502.5</td>\n",
              "      <td>1278.0</td>\n",
              "      <td>852.0</td>\n",
              "      <td>182.0</td>\n",
              "      <td>9126.0</td>\n",
              "      <td>NaN</td>\n",
              "      <td>273.0</td>\n",
              "      <td>22.0</td>\n",
              "      <td>4.1666</td>\n",
              "      <td>0.0</td>\n",
              "      <td>1.0</td>\n",
              "      <td>4.0</td>\n",
              "      <td>0.0</td>\n",
              "      <td>4.0</td>\n",
              "      <td>0.0</td>\n",
              "      <td>150.0000</td>\n",
              "      <td>NaN</td>\n",
              "      <td>0.825000</td>\n",
              "      <td>1.01</td>\n",
              "      <td>0.800000</td>\n",
              "      <td>NaN</td>\n",
              "      <td>NaN</td>\n",
              "      <td>charge</td>\n",
              "      <td>NaN</td>\n",
              "      <td>0.000000</td>\n",
              "      <td>NaN</td>\n",
              "      <td>yes</td>\n",
              "    </tr>\n",
              "  </tbody>\n",
              "</table>\n",
              "</div>"
            ],
            "text/plain": [
              "    Applicant_ID  form_field1  ...  form_field50  default_status\n",
              "0  Apcnt_1000000       3436.0  ...      0.044335              no\n",
              "1  Apcnt_1000004       3456.0  ...      0.322436              no\n",
              "2  Apcnt_1000008       3276.0  ...      0.011640             yes\n",
              "3  Apcnt_1000012       3372.0  ...      0.082729              no\n",
              "4  Apcnt_1000016       3370.0  ...      0.045630              no\n",
              "5  Apcnt_1000020       3724.0  ...           NaN              no\n",
              "6  Apcnt_1000024       3350.0  ...      0.004390             yes\n",
              "7  Apcnt_1000028       3416.0  ...      0.128389              no\n",
              "8  Apcnt_1000036       3376.0  ...      0.009990              no\n",
              "9  Apcnt_1000040       3310.0  ...           NaN             yes\n",
              "\n",
              "[10 rows x 52 columns]"
            ]
          },
          "metadata": {
            "tags": []
          },
          "execution_count": 3
        }
      ]
    },
    {
      "cell_type": "code",
      "metadata": {
        "id": "XSBdQzTtu8vy",
        "outputId": "9e1a6c94-68b7-47ca-94cb-ad8a3c13f2af",
        "colab": {
          "base_uri": "https://localhost:8080/",
          "height": 224
        }
      },
      "source": [
        "test.head()"
      ],
      "execution_count": null,
      "outputs": [
        {
          "output_type": "execute_result",
          "data": {
            "text/html": [
              "<div>\n",
              "<style scoped>\n",
              "    .dataframe tbody tr th:only-of-type {\n",
              "        vertical-align: middle;\n",
              "    }\n",
              "\n",
              "    .dataframe tbody tr th {\n",
              "        vertical-align: top;\n",
              "    }\n",
              "\n",
              "    .dataframe thead th {\n",
              "        text-align: right;\n",
              "    }\n",
              "</style>\n",
              "<table border=\"1\" class=\"dataframe\">\n",
              "  <thead>\n",
              "    <tr style=\"text-align: right;\">\n",
              "      <th></th>\n",
              "      <th>Applicant_ID</th>\n",
              "      <th>form_field1</th>\n",
              "      <th>form_field2</th>\n",
              "      <th>form_field3</th>\n",
              "      <th>form_field4</th>\n",
              "      <th>form_field5</th>\n",
              "      <th>form_field6</th>\n",
              "      <th>form_field7</th>\n",
              "      <th>form_field8</th>\n",
              "      <th>form_field9</th>\n",
              "      <th>form_field10</th>\n",
              "      <th>form_field11</th>\n",
              "      <th>form_field12</th>\n",
              "      <th>form_field13</th>\n",
              "      <th>form_field14</th>\n",
              "      <th>form_field15</th>\n",
              "      <th>form_field16</th>\n",
              "      <th>form_field17</th>\n",
              "      <th>form_field18</th>\n",
              "      <th>form_field19</th>\n",
              "      <th>form_field20</th>\n",
              "      <th>form_field21</th>\n",
              "      <th>form_field22</th>\n",
              "      <th>form_field23</th>\n",
              "      <th>form_field24</th>\n",
              "      <th>form_field25</th>\n",
              "      <th>form_field26</th>\n",
              "      <th>form_field27</th>\n",
              "      <th>form_field28</th>\n",
              "      <th>form_field29</th>\n",
              "      <th>form_field30</th>\n",
              "      <th>form_field31</th>\n",
              "      <th>form_field32</th>\n",
              "      <th>form_field33</th>\n",
              "      <th>form_field34</th>\n",
              "      <th>form_field35</th>\n",
              "      <th>form_field36</th>\n",
              "      <th>form_field37</th>\n",
              "      <th>form_field38</th>\n",
              "      <th>form_field39</th>\n",
              "      <th>form_field40</th>\n",
              "      <th>form_field41</th>\n",
              "      <th>form_field42</th>\n",
              "      <th>form_field43</th>\n",
              "      <th>form_field44</th>\n",
              "      <th>form_field45</th>\n",
              "      <th>form_field46</th>\n",
              "      <th>form_field47</th>\n",
              "      <th>form_field48</th>\n",
              "      <th>form_field49</th>\n",
              "      <th>form_field50</th>\n",
              "    </tr>\n",
              "  </thead>\n",
              "  <tbody>\n",
              "    <tr>\n",
              "      <th>0</th>\n",
              "      <td>Apcnt_1000032</td>\n",
              "      <td>3236.0</td>\n",
              "      <td>0.34875</td>\n",
              "      <td>10.2006</td>\n",
              "      <td>0.0000</td>\n",
              "      <td>0.0</td>\n",
              "      <td>418564.0</td>\n",
              "      <td>418564.0</td>\n",
              "      <td>418564.0</td>\n",
              "      <td>540710.0</td>\n",
              "      <td>0.0</td>\n",
              "      <td>1649749.0</td>\n",
              "      <td>5446.0</td>\n",
              "      <td>0.0</td>\n",
              "      <td>48187375</td>\n",
              "      <td>114686147.0</td>\n",
              "      <td>0.0</td>\n",
              "      <td>0.0</td>\n",
              "      <td>0.0</td>\n",
              "      <td>0.0</td>\n",
              "      <td>0.0</td>\n",
              "      <td>NaN</td>\n",
              "      <td>NaN</td>\n",
              "      <td>NaN</td>\n",
              "      <td>NaN</td>\n",
              "      <td>1086.0</td>\n",
              "      <td>6204.0</td>\n",
              "      <td>2676.0</td>\n",
              "      <td>60.0</td>\n",
              "      <td>14691.0</td>\n",
              "      <td>9794.0</td>\n",
              "      <td>NaN</td>\n",
              "      <td>238.0</td>\n",
              "      <td>1.8334</td>\n",
              "      <td>0.0</td>\n",
              "      <td>NaN</td>\n",
              "      <td>22.0</td>\n",
              "      <td>2.0</td>\n",
              "      <td>14.0</td>\n",
              "      <td>0.0</td>\n",
              "      <td>NaN</td>\n",
              "      <td>NaN</td>\n",
              "      <td>0.825000</td>\n",
              "      <td>1.01</td>\n",
              "      <td>0.800000</td>\n",
              "      <td>NaN</td>\n",
              "      <td>0.0</td>\n",
              "      <td>charge</td>\n",
              "      <td>NaN</td>\n",
              "      <td>0.000000</td>\n",
              "      <td>0.011221</td>\n",
              "    </tr>\n",
              "    <tr>\n",
              "      <th>1</th>\n",
              "      <td>Apcnt_1000048</td>\n",
              "      <td>3284.0</td>\n",
              "      <td>1.27360</td>\n",
              "      <td>2.9606</td>\n",
              "      <td>9.0198</td>\n",
              "      <td>0.0</td>\n",
              "      <td>0.0</td>\n",
              "      <td>9858816.0</td>\n",
              "      <td>49014.0</td>\n",
              "      <td>1510098.0</td>\n",
              "      <td>18308285.0</td>\n",
              "      <td>622789.0</td>\n",
              "      <td>1025793.0</td>\n",
              "      <td>1396510.0</td>\n",
              "      <td>34694910</td>\n",
              "      <td>87479487.0</td>\n",
              "      <td>1.0</td>\n",
              "      <td>1.0</td>\n",
              "      <td>1.0</td>\n",
              "      <td>2.0</td>\n",
              "      <td>2.0</td>\n",
              "      <td>142.560</td>\n",
              "      <td>NaN</td>\n",
              "      <td>NaN</td>\n",
              "      <td>570.585</td>\n",
              "      <td>3082.5</td>\n",
              "      <td>10221.0</td>\n",
              "      <td>6814.0</td>\n",
              "      <td>60.0</td>\n",
              "      <td>11955.0</td>\n",
              "      <td>3528.0</td>\n",
              "      <td>NaN</td>\n",
              "      <td>1216.0</td>\n",
              "      <td>19.5000</td>\n",
              "      <td>3.0</td>\n",
              "      <td>NaN</td>\n",
              "      <td>30.0</td>\n",
              "      <td>18.0</td>\n",
              "      <td>14.0</td>\n",
              "      <td>2.0</td>\n",
              "      <td>NaN</td>\n",
              "      <td>18.8415</td>\n",
              "      <td>0.507694</td>\n",
              "      <td>4.04</td>\n",
              "      <td>0.623248</td>\n",
              "      <td>1.0</td>\n",
              "      <td>0.0</td>\n",
              "      <td>lending</td>\n",
              "      <td>NaN</td>\n",
              "      <td>0.504974</td>\n",
              "      <td>0.043525</td>\n",
              "    </tr>\n",
              "    <tr>\n",
              "      <th>2</th>\n",
              "      <td>Apcnt_1000052</td>\n",
              "      <td>NaN</td>\n",
              "      <td>0.27505</td>\n",
              "      <td>0.0600</td>\n",
              "      <td>0.0000</td>\n",
              "      <td>0.0</td>\n",
              "      <td>NaN</td>\n",
              "      <td>NaN</td>\n",
              "      <td>NaN</td>\n",
              "      <td>NaN</td>\n",
              "      <td>0.0</td>\n",
              "      <td>118256.0</td>\n",
              "      <td>NaN</td>\n",
              "      <td>NaN</td>\n",
              "      <td>21973443</td>\n",
              "      <td>NaN</td>\n",
              "      <td>NaN</td>\n",
              "      <td>NaN</td>\n",
              "      <td>NaN</td>\n",
              "      <td>0.0</td>\n",
              "      <td>0.0</td>\n",
              "      <td>NaN</td>\n",
              "      <td>NaN</td>\n",
              "      <td>NaN</td>\n",
              "      <td>NaN</td>\n",
              "      <td>NaN</td>\n",
              "      <td>NaN</td>\n",
              "      <td>NaN</td>\n",
              "      <td>852.0</td>\n",
              "      <td>4836.0</td>\n",
              "      <td>NaN</td>\n",
              "      <td>NaN</td>\n",
              "      <td>NaN</td>\n",
              "      <td>7.8334</td>\n",
              "      <td>0.0</td>\n",
              "      <td>NaN</td>\n",
              "      <td>2.0</td>\n",
              "      <td>NaN</td>\n",
              "      <td>0.0</td>\n",
              "      <td>NaN</td>\n",
              "      <td>NaN</td>\n",
              "      <td>NaN</td>\n",
              "      <td>NaN</td>\n",
              "      <td>0.00</td>\n",
              "      <td>NaN</td>\n",
              "      <td>NaN</td>\n",
              "      <td>NaN</td>\n",
              "      <td>charge</td>\n",
              "      <td>NaN</td>\n",
              "      <td>0.000000</td>\n",
              "      <td>NaN</td>\n",
              "    </tr>\n",
              "    <tr>\n",
              "      <th>3</th>\n",
              "      <td>Apcnt_1000076</td>\n",
              "      <td>3232.0</td>\n",
              "      <td>0.28505</td>\n",
              "      <td>2.8032</td>\n",
              "      <td>0.0000</td>\n",
              "      <td>0.0</td>\n",
              "      <td>0.0</td>\n",
              "      <td>473802.0</td>\n",
              "      <td>473802.0</td>\n",
              "      <td>1724437.0</td>\n",
              "      <td>493641.0</td>\n",
              "      <td>1391064.0</td>\n",
              "      <td>1176725.0</td>\n",
              "      <td>1220293.0</td>\n",
              "      <td>16576457</td>\n",
              "      <td>NaN</td>\n",
              "      <td>2.0</td>\n",
              "      <td>2.0</td>\n",
              "      <td>2.0</td>\n",
              "      <td>3.0</td>\n",
              "      <td>3.0</td>\n",
              "      <td>109.005</td>\n",
              "      <td>13050.00</td>\n",
              "      <td>NaN</td>\n",
              "      <td>109.005</td>\n",
              "      <td>1414.5</td>\n",
              "      <td>4197.0</td>\n",
              "      <td>2798.0</td>\n",
              "      <td>60.0</td>\n",
              "      <td>14964.0</td>\n",
              "      <td>NaN</td>\n",
              "      <td>NaN</td>\n",
              "      <td>248.0</td>\n",
              "      <td>9.0000</td>\n",
              "      <td>1.0</td>\n",
              "      <td>1.0</td>\n",
              "      <td>36.0</td>\n",
              "      <td>0.0</td>\n",
              "      <td>26.0</td>\n",
              "      <td>0.0</td>\n",
              "      <td>NaN</td>\n",
              "      <td>NaN</td>\n",
              "      <td>0.916663</td>\n",
              "      <td>2.02</td>\n",
              "      <td>0.464224</td>\n",
              "      <td>NaN</td>\n",
              "      <td>NaN</td>\n",
              "      <td>charge</td>\n",
              "      <td>90.163742</td>\n",
              "      <td>0.788809</td>\n",
              "      <td>0.104029</td>\n",
              "    </tr>\n",
              "    <tr>\n",
              "      <th>4</th>\n",
              "      <td>Apcnt_1000080</td>\n",
              "      <td>3466.0</td>\n",
              "      <td>2.09545</td>\n",
              "      <td>0.8318</td>\n",
              "      <td>2.5182</td>\n",
              "      <td>0.0</td>\n",
              "      <td>19839.0</td>\n",
              "      <td>1150662.0</td>\n",
              "      <td>1150662.0</td>\n",
              "      <td>7860523.0</td>\n",
              "      <td>5752921.0</td>\n",
              "      <td>271133.0</td>\n",
              "      <td>613064.0</td>\n",
              "      <td>4779643.0</td>\n",
              "      <td>48187375</td>\n",
              "      <td>72049802.0</td>\n",
              "      <td>0.0</td>\n",
              "      <td>0.0</td>\n",
              "      <td>0.0</td>\n",
              "      <td>3.0</td>\n",
              "      <td>3.0</td>\n",
              "      <td>139.065</td>\n",
              "      <td>469.29</td>\n",
              "      <td>469.29</td>\n",
              "      <td>15.180</td>\n",
              "      <td>2724.0</td>\n",
              "      <td>9855.0</td>\n",
              "      <td>6570.0</td>\n",
              "      <td>182.0</td>\n",
              "      <td>11679.0</td>\n",
              "      <td>5900.0</td>\n",
              "      <td>NaN</td>\n",
              "      <td>2388.0</td>\n",
              "      <td>16.6666</td>\n",
              "      <td>1.0</td>\n",
              "      <td>0.0</td>\n",
              "      <td>24.0</td>\n",
              "      <td>28.0</td>\n",
              "      <td>20.0</td>\n",
              "      <td>0.0</td>\n",
              "      <td>NaN</td>\n",
              "      <td>NaN</td>\n",
              "      <td>0.234047</td>\n",
              "      <td>23.23</td>\n",
              "      <td>0.726688</td>\n",
              "      <td>0.0</td>\n",
              "      <td>0.0</td>\n",
              "      <td>lending</td>\n",
              "      <td>1303.587148</td>\n",
              "      <td>1.637733</td>\n",
              "      <td>0.163124</td>\n",
              "    </tr>\n",
              "  </tbody>\n",
              "</table>\n",
              "</div>"
            ],
            "text/plain": [
              "    Applicant_ID  form_field1  ...  form_field49  form_field50\n",
              "0  Apcnt_1000032       3236.0  ...      0.000000      0.011221\n",
              "1  Apcnt_1000048       3284.0  ...      0.504974      0.043525\n",
              "2  Apcnt_1000052          NaN  ...      0.000000           NaN\n",
              "3  Apcnt_1000076       3232.0  ...      0.788809      0.104029\n",
              "4  Apcnt_1000080       3466.0  ...      1.637733      0.163124\n",
              "\n",
              "[5 rows x 51 columns]"
            ]
          },
          "metadata": {
            "tags": []
          },
          "execution_count": 4
        }
      ]
    },
    {
      "cell_type": "code",
      "metadata": {
        "id": "nm6-GFKNvdUe",
        "outputId": "6652afe1-078f-4855-a291-b562205c299b",
        "colab": {
          "base_uri": "https://localhost:8080/",
          "height": 1020
        }
      },
      "source": [
        "train.info()"
      ],
      "execution_count": null,
      "outputs": [
        {
          "output_type": "stream",
          "text": [
            "<class 'pandas.core.frame.DataFrame'>\n",
            "RangeIndex: 56000 entries, 0 to 55999\n",
            "Data columns (total 52 columns):\n",
            " #   Column          Non-Null Count  Dtype  \n",
            "---  ------          --------------  -----  \n",
            " 0   Applicant_ID    56000 non-null  object \n",
            " 1   form_field1     53471 non-null  float64\n",
            " 2   form_field2     52156 non-null  float64\n",
            " 3   form_field3     55645 non-null  float64\n",
            " 4   form_field4     55645 non-null  float64\n",
            " 5   form_field5     55645 non-null  float64\n",
            " 6   form_field6     42640 non-null  float64\n",
            " 7   form_field7     50837 non-null  float64\n",
            " 8   form_field8     42640 non-null  float64\n",
            " 9   form_field9     47992 non-null  float64\n",
            " 10  form_field10    55645 non-null  float64\n",
            " 11  form_field11    24579 non-null  float64\n",
            " 12  form_field12    46105 non-null  float64\n",
            " 13  form_field13    50111 non-null  float64\n",
            " 14  form_field14    56000 non-null  int64  \n",
            " 15  form_field15    33525 non-null  float64\n",
            " 16  form_field16    42964 non-null  float64\n",
            " 17  form_field17    44849 non-null  float64\n",
            " 18  form_field18    45598 non-null  float64\n",
            " 19  form_field19    55996 non-null  float64\n",
            " 20  form_field20    55645 non-null  float64\n",
            " 21  form_field21    40146 non-null  float64\n",
            " 22  form_field22    35600 non-null  float64\n",
            " 23  form_field23    27877 non-null  float64\n",
            " 24  form_field24    42703 non-null  float64\n",
            " 25  form_field25    50550 non-null  float64\n",
            " 26  form_field26    48562 non-null  float64\n",
            " 27  form_field27    46701 non-null  float64\n",
            " 28  form_field28    55645 non-null  float64\n",
            " 29  form_field29    55645 non-null  float64\n",
            " 30  form_field30    30491 non-null  float64\n",
            " 31  form_field31    16592 non-null  float64\n",
            " 32  form_field32    50550 non-null  float64\n",
            " 33  form_field33    54744 non-null  float64\n",
            " 34  form_field34    55645 non-null  float64\n",
            " 35  form_field35    32852 non-null  float64\n",
            " 36  form_field36    54005 non-null  float64\n",
            " 37  form_field37    50550 non-null  float64\n",
            " 38  form_field38    55645 non-null  float64\n",
            " 39  form_field39    51789 non-null  float64\n",
            " 40  form_field40    12271 non-null  float64\n",
            " 41  form_field41    17771 non-null  float64\n",
            " 42  form_field42    54677 non-null  float64\n",
            " 43  form_field43    55432 non-null  float64\n",
            " 44  form_field44    50617 non-null  float64\n",
            " 45  form_field45    24683 non-null  float64\n",
            " 46  form_field46    40096 non-null  float64\n",
            " 47  form_field47    56000 non-null  object \n",
            " 48  form_field48    35111 non-null  float64\n",
            " 49  form_field49    55645 non-null  float64\n",
            " 50  form_field50    44944 non-null  float64\n",
            " 51  default_status  56000 non-null  object \n",
            "dtypes: float64(48), int64(1), object(3)\n",
            "memory usage: 22.2+ MB\n"
          ],
          "name": "stdout"
        }
      ]
    },
    {
      "cell_type": "code",
      "metadata": {
        "id": "2BxuvAMFvcHN",
        "outputId": "f85ca1f9-cc7c-49fc-dc8f-5cc523e4a987",
        "colab": {
          "base_uri": "https://localhost:8080/",
          "height": 1003
        }
      },
      "source": [
        "test.info()"
      ],
      "execution_count": null,
      "outputs": [
        {
          "output_type": "stream",
          "text": [
            "<class 'pandas.core.frame.DataFrame'>\n",
            "RangeIndex: 24000 entries, 0 to 23999\n",
            "Data columns (total 51 columns):\n",
            " #   Column        Non-Null Count  Dtype  \n",
            "---  ------        --------------  -----  \n",
            " 0   Applicant_ID  24000 non-null  object \n",
            " 1   form_field1   22890 non-null  float64\n",
            " 2   form_field2   22291 non-null  float64\n",
            " 3   form_field3   23854 non-null  float64\n",
            " 4   form_field4   23854 non-null  float64\n",
            " 5   form_field5   23854 non-null  float64\n",
            " 6   form_field6   18396 non-null  float64\n",
            " 7   form_field7   21769 non-null  float64\n",
            " 8   form_field8   18396 non-null  float64\n",
            " 9   form_field9   20600 non-null  float64\n",
            " 10  form_field10  23853 non-null  float64\n",
            " 11  form_field11  10602 non-null  float64\n",
            " 12  form_field12  19817 non-null  float64\n",
            " 13  form_field13  21537 non-null  float64\n",
            " 14  form_field14  24000 non-null  int64  \n",
            " 15  form_field15  14408 non-null  float64\n",
            " 16  form_field16  18526 non-null  float64\n",
            " 17  form_field17  19305 non-null  float64\n",
            " 18  form_field18  19631 non-null  float64\n",
            " 19  form_field19  24000 non-null  float64\n",
            " 20  form_field20  23853 non-null  float64\n",
            " 21  form_field21  17293 non-null  float64\n",
            " 22  form_field22  15276 non-null  float64\n",
            " 23  form_field23  11875 non-null  float64\n",
            " 24  form_field24  18395 non-null  float64\n",
            " 25  form_field25  21744 non-null  float64\n",
            " 26  form_field26  20828 non-null  float64\n",
            " 27  form_field27  20090 non-null  float64\n",
            " 28  form_field28  23853 non-null  float64\n",
            " 29  form_field29  23853 non-null  float64\n",
            " 30  form_field30  13092 non-null  float64\n",
            " 31  form_field31  7190 non-null   float64\n",
            " 32  form_field32  21744 non-null  float64\n",
            " 33  form_field33  23505 non-null  float64\n",
            " 34  form_field34  23853 non-null  float64\n",
            " 35  form_field35  14134 non-null  float64\n",
            " 36  form_field36  23097 non-null  float64\n",
            " 37  form_field37  21744 non-null  float64\n",
            " 38  form_field38  23853 non-null  float64\n",
            " 39  form_field39  22171 non-null  float64\n",
            " 40  form_field40  5172 non-null   float64\n",
            " 41  form_field41  7651 non-null   float64\n",
            " 42  form_field42  23422 non-null  float64\n",
            " 43  form_field43  23750 non-null  float64\n",
            " 44  form_field44  21638 non-null  float64\n",
            " 45  form_field45  10462 non-null  float64\n",
            " 46  form_field46  17115 non-null  float64\n",
            " 47  form_field47  24000 non-null  object \n",
            " 48  form_field48  15078 non-null  float64\n",
            " 49  form_field49  23854 non-null  float64\n",
            " 50  form_field50  19203 non-null  float64\n",
            "dtypes: float64(48), int64(1), object(2)\n",
            "memory usage: 9.3+ MB\n"
          ],
          "name": "stdout"
        }
      ]
    },
    {
      "cell_type": "code",
      "metadata": {
        "id": "RjGmboGcvuyU",
        "outputId": "99e584f1-77c2-45d6-8b1b-e9b2d4816e82",
        "colab": {
          "base_uri": "https://localhost:8080/",
          "height": 918
        }
      },
      "source": [
        "train.isnull().sum()"
      ],
      "execution_count": null,
      "outputs": [
        {
          "output_type": "execute_result",
          "data": {
            "text/plain": [
              "Applicant_ID          0\n",
              "form_field1        2529\n",
              "form_field2        3844\n",
              "form_field3         355\n",
              "form_field4         355\n",
              "form_field5         355\n",
              "form_field6       13360\n",
              "form_field7        5163\n",
              "form_field8       13360\n",
              "form_field9        8008\n",
              "form_field10        355\n",
              "form_field11      31421\n",
              "form_field12       9895\n",
              "form_field13       5889\n",
              "form_field14          0\n",
              "form_field15      22475\n",
              "form_field16      13036\n",
              "form_field17      11151\n",
              "form_field18      10402\n",
              "form_field19          4\n",
              "form_field20        355\n",
              "form_field21      15854\n",
              "form_field22      20400\n",
              "form_field23      28123\n",
              "form_field24      13297\n",
              "form_field25       5450\n",
              "form_field26       7438\n",
              "form_field27       9299\n",
              "form_field28        355\n",
              "form_field29        355\n",
              "form_field30      25509\n",
              "form_field31      39408\n",
              "form_field32       5450\n",
              "form_field33       1256\n",
              "form_field34        355\n",
              "form_field35      23148\n",
              "form_field36       1995\n",
              "form_field37       5450\n",
              "form_field38        355\n",
              "form_field39       4211\n",
              "form_field40      43729\n",
              "form_field41      38229\n",
              "form_field42       1323\n",
              "form_field43        568\n",
              "form_field44       5383\n",
              "form_field45      31317\n",
              "form_field46      15904\n",
              "form_field47          0\n",
              "form_field48      20889\n",
              "form_field49        355\n",
              "form_field50      11056\n",
              "default_status        0\n",
              "dtype: int64"
            ]
          },
          "metadata": {
            "tags": []
          },
          "execution_count": 7
        }
      ]
    },
    {
      "cell_type": "code",
      "metadata": {
        "id": "0Btn5OMZ97Lx",
        "outputId": "cc4864e2-ccca-4b1c-e171-1f0737f1b503",
        "colab": {
          "base_uri": "https://localhost:8080/",
          "height": 901
        }
      },
      "source": [
        "test.isnull().sum()"
      ],
      "execution_count": null,
      "outputs": [
        {
          "output_type": "execute_result",
          "data": {
            "text/plain": [
              "Applicant_ID        0\n",
              "form_field1      1110\n",
              "form_field2      1709\n",
              "form_field3       146\n",
              "form_field4       146\n",
              "form_field5       146\n",
              "form_field6      5604\n",
              "form_field7      2231\n",
              "form_field8      5604\n",
              "form_field9      3400\n",
              "form_field10      147\n",
              "form_field11    13398\n",
              "form_field12     4183\n",
              "form_field13     2463\n",
              "form_field14        0\n",
              "form_field15     9592\n",
              "form_field16     5474\n",
              "form_field17     4695\n",
              "form_field18     4369\n",
              "form_field19        0\n",
              "form_field20      147\n",
              "form_field21     6707\n",
              "form_field22     8724\n",
              "form_field23    12125\n",
              "form_field24     5605\n",
              "form_field25     2256\n",
              "form_field26     3172\n",
              "form_field27     3910\n",
              "form_field28      147\n",
              "form_field29      147\n",
              "form_field30    10908\n",
              "form_field31    16810\n",
              "form_field32     2256\n",
              "form_field33      495\n",
              "form_field34      147\n",
              "form_field35     9866\n",
              "form_field36      903\n",
              "form_field37     2256\n",
              "form_field38      147\n",
              "form_field39     1829\n",
              "form_field40    18828\n",
              "form_field41    16349\n",
              "form_field42      578\n",
              "form_field43      250\n",
              "form_field44     2362\n",
              "form_field45    13538\n",
              "form_field46     6885\n",
              "form_field47        0\n",
              "form_field48     8922\n",
              "form_field49      146\n",
              "form_field50     4797\n",
              "dtype: int64"
            ]
          },
          "metadata": {
            "tags": []
          },
          "execution_count": 8
        }
      ]
    },
    {
      "cell_type": "code",
      "metadata": {
        "id": "ayhqWItK9_NN",
        "outputId": "14e349b0-a31a-4da9-f507-118796af2b59",
        "colab": {
          "base_uri": "https://localhost:8080/",
          "height": 255
        }
      },
      "source": [
        "train.columns"
      ],
      "execution_count": null,
      "outputs": [
        {
          "output_type": "execute_result",
          "data": {
            "text/plain": [
              "Index(['Applicant_ID', 'form_field1', 'form_field2', 'form_field3',\n",
              "       'form_field4', 'form_field5', 'form_field6', 'form_field7',\n",
              "       'form_field8', 'form_field9', 'form_field10', 'form_field11',\n",
              "       'form_field12', 'form_field13', 'form_field14', 'form_field15',\n",
              "       'form_field16', 'form_field17', 'form_field18', 'form_field19',\n",
              "       'form_field20', 'form_field21', 'form_field22', 'form_field23',\n",
              "       'form_field24', 'form_field25', 'form_field26', 'form_field27',\n",
              "       'form_field28', 'form_field29', 'form_field30', 'form_field31',\n",
              "       'form_field32', 'form_field33', 'form_field34', 'form_field35',\n",
              "       'form_field36', 'form_field37', 'form_field38', 'form_field39',\n",
              "       'form_field40', 'form_field41', 'form_field42', 'form_field43',\n",
              "       'form_field44', 'form_field45', 'form_field46', 'form_field47',\n",
              "       'form_field48', 'form_field49', 'form_field50', 'default_status'],\n",
              "      dtype='object')"
            ]
          },
          "metadata": {
            "tags": []
          },
          "execution_count": 9
        }
      ]
    },
    {
      "cell_type": "code",
      "metadata": {
        "id": "BrOR0D2qBYu0",
        "outputId": "40b1d2fa-063a-4cc4-a541-b1bf62164051",
        "colab": {
          "base_uri": "https://localhost:8080/",
          "height": 255
        }
      },
      "source": [
        "test.columns"
      ],
      "execution_count": null,
      "outputs": [
        {
          "output_type": "execute_result",
          "data": {
            "text/plain": [
              "Index(['Applicant_ID', 'form_field1', 'form_field2', 'form_field3',\n",
              "       'form_field4', 'form_field5', 'form_field6', 'form_field7',\n",
              "       'form_field8', 'form_field9', 'form_field10', 'form_field11',\n",
              "       'form_field12', 'form_field13', 'form_field14', 'form_field15',\n",
              "       'form_field16', 'form_field17', 'form_field18', 'form_field19',\n",
              "       'form_field20', 'form_field21', 'form_field22', 'form_field23',\n",
              "       'form_field24', 'form_field25', 'form_field26', 'form_field27',\n",
              "       'form_field28', 'form_field29', 'form_field30', 'form_field31',\n",
              "       'form_field32', 'form_field33', 'form_field34', 'form_field35',\n",
              "       'form_field36', 'form_field37', 'form_field38', 'form_field39',\n",
              "       'form_field40', 'form_field41', 'form_field42', 'form_field43',\n",
              "       'form_field44', 'form_field45', 'form_field46', 'form_field47',\n",
              "       'form_field48', 'form_field49', 'form_field50'],\n",
              "      dtype='object')"
            ]
          },
          "metadata": {
            "tags": []
          },
          "execution_count": 10
        }
      ]
    },
    {
      "cell_type": "code",
      "metadata": {
        "id": "wq6MCPRDBbaX",
        "outputId": "22244be8-7925-4c8d-e0b0-b62e9f0ed46f",
        "colab": {
          "base_uri": "https://localhost:8080/",
          "height": 317
        }
      },
      "source": [
        "train.describe()"
      ],
      "execution_count": null,
      "outputs": [
        {
          "output_type": "execute_result",
          "data": {
            "text/html": [
              "<div>\n",
              "<style scoped>\n",
              "    .dataframe tbody tr th:only-of-type {\n",
              "        vertical-align: middle;\n",
              "    }\n",
              "\n",
              "    .dataframe tbody tr th {\n",
              "        vertical-align: top;\n",
              "    }\n",
              "\n",
              "    .dataframe thead th {\n",
              "        text-align: right;\n",
              "    }\n",
              "</style>\n",
              "<table border=\"1\" class=\"dataframe\">\n",
              "  <thead>\n",
              "    <tr style=\"text-align: right;\">\n",
              "      <th></th>\n",
              "      <th>form_field1</th>\n",
              "      <th>form_field2</th>\n",
              "      <th>form_field3</th>\n",
              "      <th>form_field4</th>\n",
              "      <th>form_field5</th>\n",
              "      <th>form_field6</th>\n",
              "      <th>form_field7</th>\n",
              "      <th>form_field8</th>\n",
              "      <th>form_field9</th>\n",
              "      <th>form_field10</th>\n",
              "      <th>form_field11</th>\n",
              "      <th>form_field12</th>\n",
              "      <th>form_field13</th>\n",
              "      <th>form_field14</th>\n",
              "      <th>form_field15</th>\n",
              "      <th>form_field16</th>\n",
              "      <th>form_field17</th>\n",
              "      <th>form_field18</th>\n",
              "      <th>form_field19</th>\n",
              "      <th>form_field20</th>\n",
              "      <th>form_field21</th>\n",
              "      <th>form_field22</th>\n",
              "      <th>form_field23</th>\n",
              "      <th>form_field24</th>\n",
              "      <th>form_field25</th>\n",
              "      <th>form_field26</th>\n",
              "      <th>form_field27</th>\n",
              "      <th>form_field28</th>\n",
              "      <th>form_field29</th>\n",
              "      <th>form_field30</th>\n",
              "      <th>form_field31</th>\n",
              "      <th>form_field32</th>\n",
              "      <th>form_field33</th>\n",
              "      <th>form_field34</th>\n",
              "      <th>form_field35</th>\n",
              "      <th>form_field36</th>\n",
              "      <th>form_field37</th>\n",
              "      <th>form_field38</th>\n",
              "      <th>form_field39</th>\n",
              "      <th>form_field40</th>\n",
              "      <th>form_field41</th>\n",
              "      <th>form_field42</th>\n",
              "      <th>form_field43</th>\n",
              "      <th>form_field44</th>\n",
              "      <th>form_field45</th>\n",
              "      <th>form_field46</th>\n",
              "      <th>form_field48</th>\n",
              "      <th>form_field49</th>\n",
              "      <th>form_field50</th>\n",
              "    </tr>\n",
              "  </thead>\n",
              "  <tbody>\n",
              "    <tr>\n",
              "      <th>count</th>\n",
              "      <td>53471.000000</td>\n",
              "      <td>52156.000000</td>\n",
              "      <td>55645.000000</td>\n",
              "      <td>55645.000000</td>\n",
              "      <td>55645.000000</td>\n",
              "      <td>4.264000e+04</td>\n",
              "      <td>5.083700e+04</td>\n",
              "      <td>4.264000e+04</td>\n",
              "      <td>4.799200e+04</td>\n",
              "      <td>5.564500e+04</td>\n",
              "      <td>2.457900e+04</td>\n",
              "      <td>4.610500e+04</td>\n",
              "      <td>5.011100e+04</td>\n",
              "      <td>5.600000e+04</td>\n",
              "      <td>3.352500e+04</td>\n",
              "      <td>42964.000000</td>\n",
              "      <td>44849.000000</td>\n",
              "      <td>45598.000000</td>\n",
              "      <td>55996.000000</td>\n",
              "      <td>55645.000000</td>\n",
              "      <td>40146.000000</td>\n",
              "      <td>35600.000000</td>\n",
              "      <td>27877.000000</td>\n",
              "      <td>42703.000000</td>\n",
              "      <td>50550.000000</td>\n",
              "      <td>48562.000000</td>\n",
              "      <td>46701.000000</td>\n",
              "      <td>55645.000000</td>\n",
              "      <td>55645.000000</td>\n",
              "      <td>30491.000000</td>\n",
              "      <td>16592.000000</td>\n",
              "      <td>50550.000000</td>\n",
              "      <td>54744.000000</td>\n",
              "      <td>55645.000000</td>\n",
              "      <td>32852.000000</td>\n",
              "      <td>54005.000000</td>\n",
              "      <td>50550.000000</td>\n",
              "      <td>55645.000000</td>\n",
              "      <td>51789.000000</td>\n",
              "      <td>12271.000000</td>\n",
              "      <td>17771.000000</td>\n",
              "      <td>54677.000000</td>\n",
              "      <td>55432.000000</td>\n",
              "      <td>50617.000000</td>\n",
              "      <td>24683.000000</td>\n",
              "      <td>40096.000000</td>\n",
              "      <td>3.511100e+04</td>\n",
              "      <td>55645.000000</td>\n",
              "      <td>4.494400e+04</td>\n",
              "    </tr>\n",
              "    <tr>\n",
              "      <th>mean</th>\n",
              "      <td>3491.795665</td>\n",
              "      <td>0.550737</td>\n",
              "      <td>1.052225</td>\n",
              "      <td>0.851979</td>\n",
              "      <td>1.956317</td>\n",
              "      <td>6.244479e+05</td>\n",
              "      <td>6.865210e+06</td>\n",
              "      <td>2.626690e+06</td>\n",
              "      <td>1.316002e+07</td>\n",
              "      <td>1.185585e+07</td>\n",
              "      <td>2.054715e+06</td>\n",
              "      <td>2.771113e+06</td>\n",
              "      <td>6.009944e+06</td>\n",
              "      <td>6.914875e+07</td>\n",
              "      <td>1.145041e+08</td>\n",
              "      <td>0.230425</td>\n",
              "      <td>0.265692</td>\n",
              "      <td>0.271832</td>\n",
              "      <td>0.948800</td>\n",
              "      <td>1.031593</td>\n",
              "      <td>86.500380</td>\n",
              "      <td>6628.316381</td>\n",
              "      <td>6452.875072</td>\n",
              "      <td>104.558516</td>\n",
              "      <td>2624.555935</td>\n",
              "      <td>10106.554899</td>\n",
              "      <td>6190.516948</td>\n",
              "      <td>17274.315141</td>\n",
              "      <td>16518.540695</td>\n",
              "      <td>5213.246663</td>\n",
              "      <td>10857.565755</td>\n",
              "      <td>938.345321</td>\n",
              "      <td>13.926583</td>\n",
              "      <td>0.230245</td>\n",
              "      <td>0.199866</td>\n",
              "      <td>12.859069</td>\n",
              "      <td>8.480435</td>\n",
              "      <td>8.601420</td>\n",
              "      <td>0.090849</td>\n",
              "      <td>147.797977</td>\n",
              "      <td>108.117363</td>\n",
              "      <td>0.368215</td>\n",
              "      <td>6.634511</td>\n",
              "      <td>0.563377</td>\n",
              "      <td>0.072520</td>\n",
              "      <td>0.095371</td>\n",
              "      <td>3.052449e+05</td>\n",
              "      <td>1.049061</td>\n",
              "      <td>6.005862e+05</td>\n",
              "    </tr>\n",
              "    <tr>\n",
              "      <th>std</th>\n",
              "      <td>188.462426</td>\n",
              "      <td>0.820979</td>\n",
              "      <td>2.147768</td>\n",
              "      <td>3.157692</td>\n",
              "      <td>10.512396</td>\n",
              "      <td>1.433422e+06</td>\n",
              "      <td>1.912729e+07</td>\n",
              "      <td>3.927355e+06</td>\n",
              "      <td>1.977963e+07</td>\n",
              "      <td>2.669459e+07</td>\n",
              "      <td>4.912980e+06</td>\n",
              "      <td>4.544838e+06</td>\n",
              "      <td>2.335893e+07</td>\n",
              "      <td>2.713995e+09</td>\n",
              "      <td>1.153842e+08</td>\n",
              "      <td>0.621833</td>\n",
              "      <td>0.720198</td>\n",
              "      <td>0.725434</td>\n",
              "      <td>1.736454</td>\n",
              "      <td>1.785122</td>\n",
              "      <td>53.445528</td>\n",
              "      <td>5661.059297</td>\n",
              "      <td>5739.968774</td>\n",
              "      <td>436.670719</td>\n",
              "      <td>1964.226548</td>\n",
              "      <td>8796.472481</td>\n",
              "      <td>5390.915344</td>\n",
              "      <td>26930.742020</td>\n",
              "      <td>9666.183962</td>\n",
              "      <td>3124.491488</td>\n",
              "      <td>6049.678489</td>\n",
              "      <td>1044.597044</td>\n",
              "      <td>15.208396</td>\n",
              "      <td>0.683063</td>\n",
              "      <td>0.574002</td>\n",
              "      <td>10.621984</td>\n",
              "      <td>9.328810</td>\n",
              "      <td>7.969215</td>\n",
              "      <td>0.423802</td>\n",
              "      <td>45.085889</td>\n",
              "      <td>36.765769</td>\n",
              "      <td>0.412858</td>\n",
              "      <td>6.378946</td>\n",
              "      <td>0.196973</td>\n",
              "      <td>0.291146</td>\n",
              "      <td>0.335210</td>\n",
              "      <td>1.647757e+06</td>\n",
              "      <td>1.806160</td>\n",
              "      <td>5.842405e+06</td>\n",
              "    </tr>\n",
              "    <tr>\n",
              "      <th>min</th>\n",
              "      <td>2990.000000</td>\n",
              "      <td>0.000000</td>\n",
              "      <td>0.000000</td>\n",
              "      <td>0.000000</td>\n",
              "      <td>0.000000</td>\n",
              "      <td>0.000000e+00</td>\n",
              "      <td>0.000000e+00</td>\n",
              "      <td>0.000000e+00</td>\n",
              "      <td>0.000000e+00</td>\n",
              "      <td>0.000000e+00</td>\n",
              "      <td>0.000000e+00</td>\n",
              "      <td>0.000000e+00</td>\n",
              "      <td>0.000000e+00</td>\n",
              "      <td>0.000000e+00</td>\n",
              "      <td>5.395430e+05</td>\n",
              "      <td>0.000000</td>\n",
              "      <td>0.000000</td>\n",
              "      <td>0.000000</td>\n",
              "      <td>0.000000</td>\n",
              "      <td>0.000000</td>\n",
              "      <td>0.255000</td>\n",
              "      <td>0.000000</td>\n",
              "      <td>0.000000</td>\n",
              "      <td>0.000000</td>\n",
              "      <td>0.000000</td>\n",
              "      <td>0.000000</td>\n",
              "      <td>0.000000</td>\n",
              "      <td>0.000000</td>\n",
              "      <td>0.000000</td>\n",
              "      <td>0.000000</td>\n",
              "      <td>0.000000</td>\n",
              "      <td>0.000000</td>\n",
              "      <td>0.166600</td>\n",
              "      <td>0.000000</td>\n",
              "      <td>0.000000</td>\n",
              "      <td>2.000000</td>\n",
              "      <td>0.000000</td>\n",
              "      <td>0.000000</td>\n",
              "      <td>0.000000</td>\n",
              "      <td>0.021000</td>\n",
              "      <td>0.000000</td>\n",
              "      <td>0.000000</td>\n",
              "      <td>0.000000</td>\n",
              "      <td>0.048528</td>\n",
              "      <td>0.000000</td>\n",
              "      <td>0.000000</td>\n",
              "      <td>0.000000e+00</td>\n",
              "      <td>0.000000</td>\n",
              "      <td>0.000000e+00</td>\n",
              "    </tr>\n",
              "    <tr>\n",
              "      <th>25%</th>\n",
              "      <td>3358.000000</td>\n",
              "      <td>0.070788</td>\n",
              "      <td>0.000000</td>\n",
              "      <td>0.000000</td>\n",
              "      <td>0.000000</td>\n",
              "      <td>1.400400e+04</td>\n",
              "      <td>6.869740e+05</td>\n",
              "      <td>1.929440e+05</td>\n",
              "      <td>1.368502e+06</td>\n",
              "      <td>4.500730e+05</td>\n",
              "      <td>2.172565e+05</td>\n",
              "      <td>2.758010e+05</td>\n",
              "      <td>1.921660e+05</td>\n",
              "      <td>1.657646e+07</td>\n",
              "      <td>5.007636e+07</td>\n",
              "      <td>0.000000</td>\n",
              "      <td>0.000000</td>\n",
              "      <td>0.000000</td>\n",
              "      <td>0.000000</td>\n",
              "      <td>0.000000</td>\n",
              "      <td>40.305000</td>\n",
              "      <td>1068.667500</td>\n",
              "      <td>797.145000</td>\n",
              "      <td>14.865000</td>\n",
              "      <td>1231.500000</td>\n",
              "      <td>3375.000000</td>\n",
              "      <td>2068.000000</td>\n",
              "      <td>60.000000</td>\n",
              "      <td>9765.000000</td>\n",
              "      <td>2312.000000</td>\n",
              "      <td>6297.000000</td>\n",
              "      <td>194.000000</td>\n",
              "      <td>2.333400</td>\n",
              "      <td>0.000000</td>\n",
              "      <td>0.000000</td>\n",
              "      <td>6.000000</td>\n",
              "      <td>2.000000</td>\n",
              "      <td>4.000000</td>\n",
              "      <td>0.000000</td>\n",
              "      <td>136.191750</td>\n",
              "      <td>87.055500</td>\n",
              "      <td>0.000000</td>\n",
              "      <td>2.020000</td>\n",
              "      <td>0.411672</td>\n",
              "      <td>0.000000</td>\n",
              "      <td>0.000000</td>\n",
              "      <td>7.710079e+01</td>\n",
              "      <td>0.000000</td>\n",
              "      <td>4.560141e-02</td>\n",
              "    </tr>\n",
              "    <tr>\n",
              "      <th>50%</th>\n",
              "      <td>3484.000000</td>\n",
              "      <td>0.267575</td>\n",
              "      <td>0.062000</td>\n",
              "      <td>0.000000</td>\n",
              "      <td>0.000000</td>\n",
              "      <td>1.155330e+05</td>\n",
              "      <td>2.704328e+06</td>\n",
              "      <td>9.639420e+05</td>\n",
              "      <td>5.506295e+06</td>\n",
              "      <td>3.707559e+06</td>\n",
              "      <td>6.986440e+05</td>\n",
              "      <td>1.163110e+06</td>\n",
              "      <td>1.605792e+06</td>\n",
              "      <td>2.814143e+07</td>\n",
              "      <td>8.442428e+07</td>\n",
              "      <td>0.000000</td>\n",
              "      <td>0.000000</td>\n",
              "      <td>0.000000</td>\n",
              "      <td>0.000000</td>\n",
              "      <td>0.000000</td>\n",
              "      <td>89.167500</td>\n",
              "      <td>5976.225000</td>\n",
              "      <td>5548.935000</td>\n",
              "      <td>60.660000</td>\n",
              "      <td>2203.500000</td>\n",
              "      <td>8214.000000</td>\n",
              "      <td>5110.000000</td>\n",
              "      <td>486.000000</td>\n",
              "      <td>15057.000000</td>\n",
              "      <td>5658.000000</td>\n",
              "      <td>10584.000000</td>\n",
              "      <td>598.000000</td>\n",
              "      <td>7.833400</td>\n",
              "      <td>0.000000</td>\n",
              "      <td>0.000000</td>\n",
              "      <td>10.000000</td>\n",
              "      <td>6.000000</td>\n",
              "      <td>6.000000</td>\n",
              "      <td>0.000000</td>\n",
              "      <td>150.000000</td>\n",
              "      <td>118.441500</td>\n",
              "      <td>0.220000</td>\n",
              "      <td>5.050000</td>\n",
              "      <td>0.588648</td>\n",
              "      <td>0.000000</td>\n",
              "      <td>0.000000</td>\n",
              "      <td>3.181243e+02</td>\n",
              "      <td>0.000000</td>\n",
              "      <td>1.703996e-01</td>\n",
              "    </tr>\n",
              "    <tr>\n",
              "      <th>75%</th>\n",
              "      <td>3620.000000</td>\n",
              "      <td>0.719512</td>\n",
              "      <td>1.282000</td>\n",
              "      <td>0.000000</td>\n",
              "      <td>0.000000</td>\n",
              "      <td>5.259280e+05</td>\n",
              "      <td>6.993831e+06</td>\n",
              "      <td>3.751516e+06</td>\n",
              "      <td>1.694552e+07</td>\n",
              "      <td>1.326101e+07</td>\n",
              "      <td>1.964839e+06</td>\n",
              "      <td>3.360182e+06</td>\n",
              "      <td>5.593626e+06</td>\n",
              "      <td>4.818738e+07</td>\n",
              "      <td>1.428735e+08</td>\n",
              "      <td>0.000000</td>\n",
              "      <td>0.000000</td>\n",
              "      <td>0.000000</td>\n",
              "      <td>1.000000</td>\n",
              "      <td>1.000000</td>\n",
              "      <td>129.892500</td>\n",
              "      <td>11354.171250</td>\n",
              "      <td>11280.000000</td>\n",
              "      <td>114.712500</td>\n",
              "      <td>3517.500000</td>\n",
              "      <td>14145.000000</td>\n",
              "      <td>8700.000000</td>\n",
              "      <td>60772.000000</td>\n",
              "      <td>21810.000000</td>\n",
              "      <td>7726.000000</td>\n",
              "      <td>14235.000000</td>\n",
              "      <td>1332.000000</td>\n",
              "      <td>21.166600</td>\n",
              "      <td>0.000000</td>\n",
              "      <td>0.000000</td>\n",
              "      <td>16.000000</td>\n",
              "      <td>12.000000</td>\n",
              "      <td>12.000000</td>\n",
              "      <td>0.000000</td>\n",
              "      <td>167.754000</td>\n",
              "      <td>137.496750</td>\n",
              "      <td>0.628573</td>\n",
              "      <td>10.100000</td>\n",
              "      <td>0.753840</td>\n",
              "      <td>0.000000</td>\n",
              "      <td>0.000000</td>\n",
              "      <td>1.153022e+03</td>\n",
              "      <td>1.181754</td>\n",
              "      <td>4.993370e-01</td>\n",
              "    </tr>\n",
              "    <tr>\n",
              "      <th>max</th>\n",
              "      <td>3900.000000</td>\n",
              "      <td>18.015050</td>\n",
              "      <td>57.371600</td>\n",
              "      <td>91.672200</td>\n",
              "      <td>407.748600</td>\n",
              "      <td>5.313546e+07</td>\n",
              "      <td>2.158794e+09</td>\n",
              "      <td>1.037397e+08</td>\n",
              "      <td>3.200533e+08</td>\n",
              "      <td>2.191361e+09</td>\n",
              "      <td>1.707430e+08</td>\n",
              "      <td>1.240439e+08</td>\n",
              "      <td>2.457824e+09</td>\n",
              "      <td>3.854990e+11</td>\n",
              "      <td>3.456119e+09</td>\n",
              "      <td>11.000000</td>\n",
              "      <td>21.000000</td>\n",
              "      <td>21.000000</td>\n",
              "      <td>28.000000</td>\n",
              "      <td>29.000000</td>\n",
              "      <td>1957.875000</td>\n",
              "      <td>97200.000000</td>\n",
              "      <td>97200.000000</td>\n",
              "      <td>31863.750000</td>\n",
              "      <td>25093.500000</td>\n",
              "      <td>73275.000000</td>\n",
              "      <td>42522.000000</td>\n",
              "      <td>60772.000000</td>\n",
              "      <td>73914.000000</td>\n",
              "      <td>25550.000000</td>\n",
              "      <td>47085.000000</td>\n",
              "      <td>21306.000000</td>\n",
              "      <td>152.000000</td>\n",
              "      <td>21.000000</td>\n",
              "      <td>10.000000</td>\n",
              "      <td>200.000000</td>\n",
              "      <td>106.000000</td>\n",
              "      <td>156.000000</td>\n",
              "      <td>21.000000</td>\n",
              "      <td>645.450000</td>\n",
              "      <td>255.000000</td>\n",
              "      <td>2.200000</td>\n",
              "      <td>91.910000</td>\n",
              "      <td>0.800000</td>\n",
              "      <td>5.000000</td>\n",
              "      <td>5.000000</td>\n",
              "      <td>5.321014e+07</td>\n",
              "      <td>28.000000</td>\n",
              "      <td>2.307571e+08</td>\n",
              "    </tr>\n",
              "  </tbody>\n",
              "</table>\n",
              "</div>"
            ],
            "text/plain": [
              "        form_field1   form_field2  ...  form_field49  form_field50\n",
              "count  53471.000000  52156.000000  ...  55645.000000  4.494400e+04\n",
              "mean    3491.795665      0.550737  ...      1.049061  6.005862e+05\n",
              "std      188.462426      0.820979  ...      1.806160  5.842405e+06\n",
              "min     2990.000000      0.000000  ...      0.000000  0.000000e+00\n",
              "25%     3358.000000      0.070788  ...      0.000000  4.560141e-02\n",
              "50%     3484.000000      0.267575  ...      0.000000  1.703996e-01\n",
              "75%     3620.000000      0.719512  ...      1.181754  4.993370e-01\n",
              "max     3900.000000     18.015050  ...     28.000000  2.307571e+08\n",
              "\n",
              "[8 rows x 49 columns]"
            ]
          },
          "metadata": {
            "tags": []
          },
          "execution_count": 11
        }
      ]
    },
    {
      "cell_type": "markdown",
      "metadata": {
        "id": "UTqYKIA9Q46y"
      },
      "source": [
        "## Data Visualization"
      ]
    },
    {
      "cell_type": "code",
      "metadata": {
        "id": "hbDoSYb_IJnT",
        "outputId": "200c338b-99f2-436a-f607-a4cfa2c3600f",
        "colab": {
          "base_uri": "https://localhost:8080/",
          "height": 280
        }
      },
      "source": [
        "import seaborn as sns\n",
        "sns.countplot(x= train['default_status'])\n",
        "plt.show()\n",
        "#To show the number of yes(defaulting) and not(not defaulting)"
      ],
      "execution_count": null,
      "outputs": [
        {
          "output_type": "display_data",
          "data": {
            "image/png": "[encoded data removed]",
            "text/plain": [
              "<Figure size 432x288 with 1 Axes>"
            ]
          },
          "metadata": {
            "tags": [],
            "needs_background": "light"
          }
        }
      ]
    },
    {
      "cell_type": "code",
      "metadata": {
        "id": "nTWgYm75RE85",
        "outputId": "1de0c4b4-c938-469f-98b2-58e010fd4e2b",
        "colab": {
          "base_uri": "https://localhost:8080/",
          "height": 265
        }
      },
      "source": [
        "train.default_status.value_counts().plot(kind= 'pie')\n",
        "plt.figure(figsize=(10, 8))\n",
        "plt.show()\n",
        "#A pie chart to make it more elaborate"
      ],
      "execution_count": null,
      "outputs": [
        {
          "output_type": "display_data",
          "data": {
            "image/png": "[encoded data removed]",
            "text/plain": [
              "<Figure size 432x288 with 1 Axes>"
            ]
          },
          "metadata": {
            "tags": []
          }
        },
        {
          "output_type": "display_data",
          "data": {
            "text/plain": [
              "<Figure size 720x576 with 0 Axes>"
            ]
          },
          "metadata": {
            "tags": []
          }
        }
      ]
    },
    {
      "cell_type": "code",
      "metadata": {
        "id": "Efv25fcgTBKJ",
        "outputId": "d66a28f8-e3b2-446d-a6f0-20f5b0baf7dd",
        "colab": {
          "base_uri": "https://localhost:8080/",
          "height": 298
        }
      },
      "source": [
        "train.groupby('form_field47')['form_field47'].count().sort_values(ascending=False).plot(kind='barh')\n",
        "sns.set(style=\"darkgrid\")\n",
        "plt.title('Types of Product applied for')\n",
        "#This shows that more people applied for the charge product than the lending product "
      ],
      "execution_count": null,
      "outputs": [
        {
          "output_type": "execute_result",
          "data": {
            "text/plain": [
              "Text(0.5, 1.0, 'Types of Product applied for')"
            ]
          },
          "metadata": {
            "tags": []
          },
          "execution_count": 14
        },
        {
          "output_type": "display_data",
          "data": {
            "image/png": "[encoded data removed]",
            "text/plain": [
              "<Figure size 432x288 with 1 Axes>"
            ]
          },
          "metadata": {
            "tags": [],
            "needs_background": "light"
          }
        }
      ]
    },
    {
      "cell_type": "code",
      "metadata": {
        "id": "_u2FKh_bZaXP",
        "outputId": "88521d03-9404-4ef9-d1f9-ffcb350f5ae2",
        "colab": {
          "base_uri": "https://localhost:8080/",
          "height": 265
        }
      },
      "source": [
        "train.form_field47.value_counts().plot(kind= 'pie')\n",
        "plt.figure(figsize=(10, 8))\n",
        "plt.show()\n",
        "#A pie chart for better view"
      ],
      "execution_count": null,
      "outputs": [
        {
          "output_type": "display_data",
          "data": {
            "image/png": "[encoded data removed]",
            "text/plain": [
              "<Figure size 432x288 with 1 Axes>"
            ]
          },
          "metadata": {
            "tags": []
          }
        },
        {
          "output_type": "display_data",
          "data": {
            "text/plain": [
              "<Figure size 720x576 with 0 Axes>"
            ]
          },
          "metadata": {
            "tags": []
          }
        }
      ]
    },
    {
      "cell_type": "markdown",
      "metadata": {
        "id": "c1ez46zxVbjn"
      },
      "source": [
        "### Severity Features Visualizations"
      ]
    },
    {
      "cell_type": "code",
      "metadata": {
        "id": "KUpW31mIIJZZ",
        "outputId": "1a62b68d-80d9-4006-c798-71eb6132aac8",
        "colab": {
          "base_uri": "https://localhost:8080/",
          "height": 464
        }
      },
      "source": [
        "plt.figure(figsize=(10,6))\n",
        "sns.barplot(train['default_status'], train['form_field3'])\n",
        "sns.set(style=\"darkgrid\")\n",
        "plt.title('default')\n",
        "plt.show()\n",
        "#This illustrates how many people defaulted on other loans while few didn't default."
      ],
      "execution_count": null,
      "outputs": [
        {
          "output_type": "stream",
          "text": [
            "/usr/local/lib/python3.6/dist-packages/seaborn/_decorators.py:43: FutureWarning: Pass the following variables as keyword args: x, y. From version 0.12, the only valid positional argument will be `data`, and passing other arguments without an explicit keyword will result in an error or misinterpretation.\n",
            "  FutureWarning\n"
          ],
          "name": "stderr"
        },
        {
          "output_type": "display_data",
          "data": {
            "image/png": "[encoded data removed]",
            "text/plain": [
              "<Figure size 720x432 with 1 Axes>"
            ]
          },
          "metadata": {
            "tags": []
          }
        }
      ]
    },
    {
      "cell_type": "code",
      "metadata": {
        "id": "I8oRWZLYVMY0",
        "outputId": "831f30f4-dc58-4543-e302-3e843d6da71a",
        "colab": {
          "base_uri": "https://localhost:8080/",
          "height": 448
        }
      },
      "source": [
        "plt.figure(figsize=(10,6))\n",
        "sns.set(style=\"darkgrid\")\n",
        "sns.barplot(train['form_field47'], train['form_field3'])\n",
        "plt.show()\n",
        "#Those that applied for the 'charge' product type default more than those that applied for 'lending' product type"
      ],
      "execution_count": null,
      "outputs": [
        {
          "output_type": "stream",
          "text": [
            "/usr/local/lib/python3.6/dist-packages/seaborn/_decorators.py:43: FutureWarning: Pass the following variables as keyword args: x, y. From version 0.12, the only valid positional argument will be `data`, and passing other arguments without an explicit keyword will result in an error or misinterpretation.\n",
            "  FutureWarning\n"
          ],
          "name": "stderr"
        },
        {
          "output_type": "display_data",
          "data": {
            "image/png": "[encoded data removed]",
            "text/plain": [
              "<Figure size 720x432 with 1 Axes>"
            ]
          },
          "metadata": {
            "tags": []
          }
        }
      ]
    },
    {
      "cell_type": "markdown",
      "metadata": {
        "id": "DIguQF_uV1V6"
      },
      "source": [
        "### Risk Scoring Features Visualization"
      ]
    },
    {
      "cell_type": "code",
      "metadata": {
        "id": "q72_JGTfVvir",
        "outputId": "a7ad4f87-9131-40de-9fbc-ff2098944a2e",
        "colab": {
          "base_uri": "https://localhost:8080/",
          "height": 448
        }
      },
      "source": [
        "plt.figure(figsize=(10,6))\n",
        "sns.set(style=\"darkgrid\")\n",
        "sns.barplot(train['default_status'], train['form_field1'])\n",
        "plt.show()\n",
        "#Most people with higher credit worthiness based on their historical data  didn't default while those with lower worthiness defaulted"
      ],
      "execution_count": null,
      "outputs": [
        {
          "output_type": "stream",
          "text": [
            "/usr/local/lib/python3.6/dist-packages/seaborn/_decorators.py:43: FutureWarning: Pass the following variables as keyword args: x, y. From version 0.12, the only valid positional argument will be `data`, and passing other arguments without an explicit keyword will result in an error or misinterpretation.\n",
            "  FutureWarning\n"
          ],
          "name": "stderr"
        },
        {
          "output_type": "display_data",
          "data": {
            "image/png": "[encoded data removed]",
            "text/plain": [
              "<Figure size 720x432 with 1 Axes>"
            ]
          },
          "metadata": {
            "tags": []
          }
        }
      ]
    },
    {
      "cell_type": "code",
      "metadata": {
        "id": "eoMoHLmZVvRr",
        "outputId": "37c0a757-dbaf-42cb-cc61-f663c25dcd9f",
        "colab": {
          "base_uri": "https://localhost:8080/",
          "height": 448
        }
      },
      "source": [
        "plt.figure(figsize=(10,6))\n",
        "sns.barplot(train['form_field47'], train['form_field1'])\n",
        "sns.set(style=\"darkgrid\")\n",
        "plt.show()\n",
        "#Customers with higher credit worthiness applied for 'lending' product type while lower ones applied for 'charge' product"
      ],
      "execution_count": null,
      "outputs": [
        {
          "output_type": "stream",
          "text": [
            "/usr/local/lib/python3.6/dist-packages/seaborn/_decorators.py:43: FutureWarning: Pass the following variables as keyword args: x, y. From version 0.12, the only valid positional argument will be `data`, and passing other arguments without an explicit keyword will result in an error or misinterpretation.\n",
            "  FutureWarning\n"
          ],
          "name": "stderr"
        },
        {
          "output_type": "display_data",
          "data": {
            "image/png": "[encoded data removed]",
            "text/plain": [
              "<Figure size 720x432 with 1 Axes>"
            ]
          },
          "metadata": {
            "tags": []
          }
        }
      ]
    },
    {
      "cell_type": "markdown",
      "metadata": {
        "id": "mzJSXZN6Wc0y"
      },
      "source": [
        "### Credit Card Features"
      ]
    },
    {
      "cell_type": "code",
      "metadata": {
        "id": "Z83dh_dQWbyA",
        "outputId": "4e54ecbd-56c0-4bd6-a5dc-ebce38492e2b",
        "colab": {
          "base_uri": "https://localhost:8080/",
          "height": 448
        }
      },
      "source": [
        "plt.figure(figsize=(10,6))\n",
        "sns.set(style=\"darkgrid\")\n",
        "sns.barplot(train['default_status'], train['form_field26'])\n",
        "plt.show()\n",
        "#Customers with higher tenure of old credit cards didn't default, those with  lower tenure defaulted"
      ],
      "execution_count": null,
      "outputs": [
        {
          "output_type": "stream",
          "text": [
            "/usr/local/lib/python3.6/dist-packages/seaborn/_decorators.py:43: FutureWarning: Pass the following variables as keyword args: x, y. From version 0.12, the only valid positional argument will be `data`, and passing other arguments without an explicit keyword will result in an error or misinterpretation.\n",
            "  FutureWarning\n"
          ],
          "name": "stderr"
        },
        {
          "output_type": "display_data",
          "data": {
            "image/png": "[encoded data removed]",
            "text/plain": [
              "<Figure size 720x432 with 1 Axes>"
            ]
          },
          "metadata": {
            "tags": []
          }
        }
      ]
    },
    {
      "cell_type": "code",
      "metadata": {
        "id": "3tjMmx46WcSF",
        "outputId": "803a8ced-4665-405b-c384-9998e1a5b0c7",
        "colab": {
          "base_uri": "https://localhost:8080/",
          "height": 448
        }
      },
      "source": [
        "plt.figure(figsize=(10,6))\n",
        "sns.barplot(train['form_field47'], train['form_field26'])\n",
        "sns.set(style=\"darkgrid\")\n",
        "plt.show()\n",
        "#Most people with higher tenure of old credit card applied for 'lending' product, those with lower tenure are for the 'charge' product type"
      ],
      "execution_count": null,
      "outputs": [
        {
          "output_type": "stream",
          "text": [
            "/usr/local/lib/python3.6/dist-packages/seaborn/_decorators.py:43: FutureWarning: Pass the following variables as keyword args: x, y. From version 0.12, the only valid positional argument will be `data`, and passing other arguments without an explicit keyword will result in an error or misinterpretation.\n",
            "  FutureWarning\n"
          ],
          "name": "stderr"
        },
        {
          "output_type": "display_data",
          "data": {
            "image/png": "[encoded data removed]",
            "text/plain": [
              "<Figure size 720x432 with 1 Axes>"
            ]
          },
          "metadata": {
            "tags": []
          }
        }
      ]
    },
    {
      "cell_type": "markdown",
      "metadata": {
        "id": "t_NAZ4xaYiwa"
      },
      "source": [
        "## Credit Features"
      ]
    },
    {
      "cell_type": "code",
      "metadata": {
        "id": "B8yVt9ozWcLb",
        "outputId": "3e3c71e2-c7e4-4681-a967-3d67ce271942",
        "colab": {
          "base_uri": "https://localhost:8080/",
          "height": 459
        }
      },
      "source": [
        "plt.figure(figsize=(10,6))\n",
        "sns.barplot(train['form_field47'], train['form_field10'])\n",
        "sns.set(style=\"darkgrid\")\n",
        "plt.show()\n",
        "#Those that applied for 'lending' product have higher amount of credit available on their credit line"
      ],
      "execution_count": null,
      "outputs": [
        {
          "output_type": "stream",
          "text": [
            "/usr/local/lib/python3.6/dist-packages/seaborn/_decorators.py:43: FutureWarning: Pass the following variables as keyword args: x, y. From version 0.12, the only valid positional argument will be `data`, and passing other arguments without an explicit keyword will result in an error or misinterpretation.\n",
            "  FutureWarning\n"
          ],
          "name": "stderr"
        },
        {
          "output_type": "display_data",
          "data": {
            "image/png": "[encoded data removed]",
            "text/plain": [
              "<Figure size 720x432 with 1 Axes>"
            ]
          },
          "metadata": {
            "tags": []
          }
        }
      ]
    },
    {
      "cell_type": "code",
      "metadata": {
        "id": "AE44c1c3WcIt",
        "outputId": "9e2126ac-0d60-459c-be1a-926eb4a18ca1",
        "colab": {
          "base_uri": "https://localhost:8080/",
          "height": 350
        }
      },
      "source": [
        "sns.barplot(train['default_status'], train['form_field10'])\n",
        "sns.set(style=\"darkgrid\")\n",
        "plt.show()\n",
        "#Most customers with higher amount credit available on their credit line didn't default"
      ],
      "execution_count": null,
      "outputs": [
        {
          "output_type": "stream",
          "text": [
            "/usr/local/lib/python3.6/dist-packages/seaborn/_decorators.py:43: FutureWarning: Pass the following variables as keyword args: x, y. From version 0.12, the only valid positional argument will be `data`, and passing other arguments without an explicit keyword will result in an error or misinterpretation.\n",
            "  FutureWarning\n"
          ],
          "name": "stderr"
        },
        {
          "output_type": "display_data",
          "data": {
            "image/png": "[encoded data removed]",
            "text/plain": [
              "<Figure size 432x288 with 1 Axes>"
            ]
          },
          "metadata": {
            "tags": []
          }
        }
      ]
    },
    {
      "cell_type": "markdown",
      "metadata": {
        "id": "ZEA4f5KbY-ev"
      },
      "source": [
        "## Time Related Features Visualization"
      ]
    },
    {
      "cell_type": "code",
      "metadata": {
        "id": "kHYwPhJ0WcBa",
        "outputId": "9867a562-04e5-4553-f34e-d5ea3483ba8e",
        "colab": {
          "base_uri": "https://localhost:8080/",
          "height": 339
        }
      },
      "source": [
        "sns.barplot(train['form_field47'], train['form_field36'])\n",
        "sns.set(style=\"darkgrid\")\n",
        "plt.show()\n",
        "#Customers that applied for 'charge' product type have higher number of active credit lines"
      ],
      "execution_count": null,
      "outputs": [
        {
          "output_type": "stream",
          "text": [
            "/usr/local/lib/python3.6/dist-packages/seaborn/_decorators.py:43: FutureWarning: Pass the following variables as keyword args: x, y. From version 0.12, the only valid positional argument will be `data`, and passing other arguments without an explicit keyword will result in an error or misinterpretation.\n",
            "  FutureWarning\n"
          ],
          "name": "stderr"
        },
        {
          "output_type": "display_data",
          "data": {
            "image/png": "[encoded data removed]",
            "text/plain": [
              "<Figure size 432x288 with 1 Axes>"
            ]
          },
          "metadata": {
            "tags": []
          }
        }
      ]
    },
    {
      "cell_type": "code",
      "metadata": {
        "id": "UGq2W1H5Wb-t",
        "outputId": "01eec691-a3d9-47a1-9df5-aebe1ee1d45f",
        "colab": {
          "base_uri": "https://localhost:8080/",
          "height": 339
        }
      },
      "source": [
        "sns.barplot(train['default_status'], train['form_field36'])\n",
        "sns.set(style=\"darkgrid\")\n",
        "plt.show()\n",
        "#Customers with higher number of active credit lines didn't default"
      ],
      "execution_count": null,
      "outputs": [
        {
          "output_type": "stream",
          "text": [
            "/usr/local/lib/python3.6/dist-packages/seaborn/_decorators.py:43: FutureWarning: Pass the following variables as keyword args: x, y. From version 0.12, the only valid positional argument will be `data`, and passing other arguments without an explicit keyword will result in an error or misinterpretation.\n",
            "  FutureWarning\n"
          ],
          "name": "stderr"
        },
        {
          "output_type": "display_data",
          "data": {
            "image/png": "[encoded data removed]",
            "text/plain": [
              "<Figure size 432x288 with 1 Axes>"
            ]
          },
          "metadata": {
            "tags": []
          }
        }
      ]
    },
    {
      "cell_type": "code",
      "metadata": {
        "id": "1tvMdyHEWb7J",
        "outputId": "0f7c99c1-5cf8-4471-fa8d-38c3fff2c01d",
        "colab": {
          "base_uri": "https://localhost:8080/",
          "height": 301
        }
      },
      "source": [
        "sns.set(style=\"darkgrid\")\n",
        "sns.countplot( y= \"form_field47\", hue= \"default_status\", data= train)\n",
        "plt.title(\"Product Defaulting Most\")\n",
        "plt.show()\n",
        "#Ratio of those not defaulting in both of the products is higher to those defaulting"
      ],
      "execution_count": null,
      "outputs": [
        {
          "output_type": "display_data",
          "data": {
            "image/png": "[encoded data removed]",
            "text/plain": [
              "<Figure size 432x288 with 1 Axes>"
            ]
          },
          "metadata": {
            "tags": []
          }
        }
      ]
    },
    {
      "cell_type": "markdown",
      "metadata": {
        "id": "aC9E2EJEYg8E"
      },
      "source": [
        "## **DEALING** **WITH** **MISSING** **VALUES**"
      ]
    },
    {
      "cell_type": "code",
      "metadata": {
        "id": "qkg4hLbQRJij",
        "outputId": "e9ad5e7a-6823-411b-ae68-6723d64fb1b7",
        "colab": {
          "base_uri": "https://localhost:8080/",
          "height": 901
        }
      },
      "source": [
        "columns= ('form_field1', 'form_field2', 'form_field3', 'form_field4', 'form_field5', 'form_field6', 'form_field7', 'form_field8', 'form_field9', 'form_field10', 'form_field11', 'form_field12', 'form_field13', 'form_field17', 'form_field15', 'form_field16', 'form_field18', 'form_field19', 'form_field20', 'form_field21', 'form_field22', 'form_field23', 'form_field24', 'form_field25', 'form_field26', 'form_field27', 'form_field28', 'form_field29', 'form_field30', 'form_field31', 'form_field32', 'form_field33', 'form_field34', 'form_field35', 'form_field36', 'form_field37', 'form_field38', 'form_field39', 'form_field40', 'form_field41', 'form_field42', 'form_field43', 'form_field44', 'form_field45', 'form_field46', 'form_field48','form_field49','form_field50')\n",
        "for cod in columns:\n",
        "  test[cod]= test[cod].fillna(-9999)\n",
        "\n",
        "test.isnull().sum()"
      ],
      "execution_count": null,
      "outputs": [
        {
          "output_type": "execute_result",
          "data": {
            "text/plain": [
              "Applicant_ID    0\n",
              "form_field1     0\n",
              "form_field2     0\n",
              "form_field3     0\n",
              "form_field4     0\n",
              "form_field5     0\n",
              "form_field6     0\n",
              "form_field7     0\n",
              "form_field8     0\n",
              "form_field9     0\n",
              "form_field10    0\n",
              "form_field11    0\n",
              "form_field12    0\n",
              "form_field13    0\n",
              "form_field14    0\n",
              "form_field15    0\n",
              "form_field16    0\n",
              "form_field17    0\n",
              "form_field18    0\n",
              "form_field19    0\n",
              "form_field20    0\n",
              "form_field21    0\n",
              "form_field22    0\n",
              "form_field23    0\n",
              "form_field24    0\n",
              "form_field25    0\n",
              "form_field26    0\n",
              "form_field27    0\n",
              "form_field28    0\n",
              "form_field29    0\n",
              "form_field30    0\n",
              "form_field31    0\n",
              "form_field32    0\n",
              "form_field33    0\n",
              "form_field34    0\n",
              "form_field35    0\n",
              "form_field36    0\n",
              "form_field37    0\n",
              "form_field38    0\n",
              "form_field39    0\n",
              "form_field40    0\n",
              "form_field41    0\n",
              "form_field42    0\n",
              "form_field43    0\n",
              "form_field44    0\n",
              "form_field45    0\n",
              "form_field46    0\n",
              "form_field47    0\n",
              "form_field48    0\n",
              "form_field49    0\n",
              "form_field50    0\n",
              "dtype: int64"
            ]
          },
          "metadata": {
            "tags": []
          },
          "execution_count": 27
        }
      ]
    },
    {
      "cell_type": "code",
      "metadata": {
        "id": "UiUxwSdrEX6t",
        "outputId": "41399757-c8a9-4928-ed21-97aef7150013",
        "colab": {
          "base_uri": "https://localhost:8080/",
          "height": 918
        }
      },
      "source": [
        "cols= ('form_field1', 'form_field2', 'form_field3', 'form_field4', 'form_field5', 'form_field6', 'form_field7', 'form_field8', 'form_field9', 'form_field10', 'form_field11', 'form_field12', 'form_field13', 'form_field17', 'form_field15', 'form_field16', 'form_field18', 'form_field19', 'form_field20', 'form_field21', 'form_field22', 'form_field23', 'form_field24', 'form_field25', 'form_field26', 'form_field27', 'form_field28', 'form_field29', 'form_field30', 'form_field31', 'form_field32', 'form_field33', 'form_field34', 'form_field35', 'form_field36', 'form_field37', 'form_field38', 'form_field39', 'form_field40', 'form_field41', 'form_field42', 'form_field43', 'form_field44', 'form_field45', 'form_field46', 'form_field48','form_field49','form_field50')\n",
        "for col in cols:\n",
        "  train[col]= train[col].fillna(-9999)\n",
        "\n",
        "train.isnull().sum()"
      ],
      "execution_count": null,
      "outputs": [
        {
          "output_type": "execute_result",
          "data": {
            "text/plain": [
              "Applicant_ID      0\n",
              "form_field1       0\n",
              "form_field2       0\n",
              "form_field3       0\n",
              "form_field4       0\n",
              "form_field5       0\n",
              "form_field6       0\n",
              "form_field7       0\n",
              "form_field8       0\n",
              "form_field9       0\n",
              "form_field10      0\n",
              "form_field11      0\n",
              "form_field12      0\n",
              "form_field13      0\n",
              "form_field14      0\n",
              "form_field15      0\n",
              "form_field16      0\n",
              "form_field17      0\n",
              "form_field18      0\n",
              "form_field19      0\n",
              "form_field20      0\n",
              "form_field21      0\n",
              "form_field22      0\n",
              "form_field23      0\n",
              "form_field24      0\n",
              "form_field25      0\n",
              "form_field26      0\n",
              "form_field27      0\n",
              "form_field28      0\n",
              "form_field29      0\n",
              "form_field30      0\n",
              "form_field31      0\n",
              "form_field32      0\n",
              "form_field33      0\n",
              "form_field34      0\n",
              "form_field35      0\n",
              "form_field36      0\n",
              "form_field37      0\n",
              "form_field38      0\n",
              "form_field39      0\n",
              "form_field40      0\n",
              "form_field41      0\n",
              "form_field42      0\n",
              "form_field43      0\n",
              "form_field44      0\n",
              "form_field45      0\n",
              "form_field46      0\n",
              "form_field47      0\n",
              "form_field48      0\n",
              "form_field49      0\n",
              "form_field50      0\n",
              "default_status    0\n",
              "dtype: int64"
            ]
          },
          "metadata": {
            "tags": []
          },
          "execution_count": 28
        }
      ]
    },
    {
      "cell_type": "code",
      "metadata": {
        "id": "wXbI3Q-6E76W",
        "outputId": "d050aeae-f77e-42e5-f67c-74664e36df19",
        "colab": {
          "base_uri": "https://localhost:8080/",
          "height": 918
        }
      },
      "source": [
        "train.dtypes"
      ],
      "execution_count": null,
      "outputs": [
        {
          "output_type": "execute_result",
          "data": {
            "text/plain": [
              "Applicant_ID       object\n",
              "form_field1       float64\n",
              "form_field2       float64\n",
              "form_field3       float64\n",
              "form_field4       float64\n",
              "form_field5       float64\n",
              "form_field6       float64\n",
              "form_field7       float64\n",
              "form_field8       float64\n",
              "form_field9       float64\n",
              "form_field10      float64\n",
              "form_field11      float64\n",
              "form_field12      float64\n",
              "form_field13      float64\n",
              "form_field14        int64\n",
              "form_field15      float64\n",
              "form_field16      float64\n",
              "form_field17      float64\n",
              "form_field18      float64\n",
              "form_field19      float64\n",
              "form_field20      float64\n",
              "form_field21      float64\n",
              "form_field22      float64\n",
              "form_field23      float64\n",
              "form_field24      float64\n",
              "form_field25      float64\n",
              "form_field26      float64\n",
              "form_field27      float64\n",
              "form_field28      float64\n",
              "form_field29      float64\n",
              "form_field30      float64\n",
              "form_field31      float64\n",
              "form_field32      float64\n",
              "form_field33      float64\n",
              "form_field34      float64\n",
              "form_field35      float64\n",
              "form_field36      float64\n",
              "form_field37      float64\n",
              "form_field38      float64\n",
              "form_field39      float64\n",
              "form_field40      float64\n",
              "form_field41      float64\n",
              "form_field42      float64\n",
              "form_field43      float64\n",
              "form_field44      float64\n",
              "form_field45      float64\n",
              "form_field46      float64\n",
              "form_field47       object\n",
              "form_field48      float64\n",
              "form_field49      float64\n",
              "form_field50      float64\n",
              "default_status     object\n",
              "dtype: object"
            ]
          },
          "metadata": {
            "tags": []
          },
          "execution_count": 29
        }
      ]
    },
    {
      "cell_type": "code",
      "metadata": {
        "id": "pYA8pchQF_6Q",
        "outputId": "cfef5493-63e0-4a4f-b531-d188810bd5e9",
        "colab": {
          "base_uri": "https://localhost:8080/",
          "height": 901
        }
      },
      "source": [
        "test.dtypes"
      ],
      "execution_count": null,
      "outputs": [
        {
          "output_type": "execute_result",
          "data": {
            "text/plain": [
              "Applicant_ID     object\n",
              "form_field1     float64\n",
              "form_field2     float64\n",
              "form_field3     float64\n",
              "form_field4     float64\n",
              "form_field5     float64\n",
              "form_field6     float64\n",
              "form_field7     float64\n",
              "form_field8     float64\n",
              "form_field9     float64\n",
              "form_field10    float64\n",
              "form_field11    float64\n",
              "form_field12    float64\n",
              "form_field13    float64\n",
              "form_field14      int64\n",
              "form_field15    float64\n",
              "form_field16    float64\n",
              "form_field17    float64\n",
              "form_field18    float64\n",
              "form_field19    float64\n",
              "form_field20    float64\n",
              "form_field21    float64\n",
              "form_field22    float64\n",
              "form_field23    float64\n",
              "form_field24    float64\n",
              "form_field25    float64\n",
              "form_field26    float64\n",
              "form_field27    float64\n",
              "form_field28    float64\n",
              "form_field29    float64\n",
              "form_field30    float64\n",
              "form_field31    float64\n",
              "form_field32    float64\n",
              "form_field33    float64\n",
              "form_field34    float64\n",
              "form_field35    float64\n",
              "form_field36    float64\n",
              "form_field37    float64\n",
              "form_field38    float64\n",
              "form_field39    float64\n",
              "form_field40    float64\n",
              "form_field41    float64\n",
              "form_field42    float64\n",
              "form_field43    float64\n",
              "form_field44    float64\n",
              "form_field45    float64\n",
              "form_field46    float64\n",
              "form_field47     object\n",
              "form_field48    float64\n",
              "form_field49    float64\n",
              "form_field50    float64\n",
              "dtype: object"
            ]
          },
          "metadata": {
            "tags": []
          },
          "execution_count": 30
        }
      ]
    },
    {
      "cell_type": "code",
      "metadata": {
        "id": "qqOLNQuxSZy3"
      },
      "source": [
        "cat= ('form_field47', 'Applicant_ID', 'default_status')\n",
        "for x in cat:\n",
        "  le= LabelEncoder()\n",
        "  train[x]= le.fit_transform(train[x].values)\n",
        "  "
      ],
      "execution_count": null,
      "outputs": []
    },
    {
      "cell_type": "code",
      "metadata": {
        "id": "M9GECROnUlWn"
      },
      "source": [
        "cats= ('form_field47', 'Applicant_ID')\n",
        "for y in cats:\n",
        "  le= LabelEncoder()\n",
        "  test[y]= le.fit_transform(test[y].values)\n",
        "  "
      ],
      "execution_count": null,
      "outputs": []
    },
    {
      "cell_type": "markdown",
      "metadata": {
        "id": "fv97Hk2UZH21"
      },
      "source": [
        "## **FEATURE** **ENGINEERING**"
      ]
    },
    {
      "cell_type": "code",
      "metadata": {
        "id": "sS39aIiVRzUl",
        "outputId": "e653d1ed-e081-4cbf-fb45-6e105b957216",
        "colab": {
          "base_uri": "https://localhost:8080/",
          "height": 918
        }
      },
      "source": [
        "train.dtypes"
      ],
      "execution_count": null,
      "outputs": [
        {
          "output_type": "execute_result",
          "data": {
            "text/plain": [
              "Applicant_ID        int64\n",
              "form_field1       float64\n",
              "form_field2       float64\n",
              "form_field3       float64\n",
              "form_field4       float64\n",
              "form_field5       float64\n",
              "form_field6       float64\n",
              "form_field7       float64\n",
              "form_field8       float64\n",
              "form_field9       float64\n",
              "form_field10      float64\n",
              "form_field11      float64\n",
              "form_field12      float64\n",
              "form_field13      float64\n",
              "form_field14        int64\n",
              "form_field15      float64\n",
              "form_field16      float64\n",
              "form_field17      float64\n",
              "form_field18      float64\n",
              "form_field19      float64\n",
              "form_field20      float64\n",
              "form_field21      float64\n",
              "form_field22      float64\n",
              "form_field23      float64\n",
              "form_field24      float64\n",
              "form_field25      float64\n",
              "form_field26      float64\n",
              "form_field27      float64\n",
              "form_field28      float64\n",
              "form_field29      float64\n",
              "form_field30      float64\n",
              "form_field31      float64\n",
              "form_field32      float64\n",
              "form_field33      float64\n",
              "form_field34      float64\n",
              "form_field35      float64\n",
              "form_field36      float64\n",
              "form_field37      float64\n",
              "form_field38      float64\n",
              "form_field39      float64\n",
              "form_field40      float64\n",
              "form_field41      float64\n",
              "form_field42      float64\n",
              "form_field43      float64\n",
              "form_field44      float64\n",
              "form_field45      float64\n",
              "form_field46      float64\n",
              "form_field47        int64\n",
              "form_field48      float64\n",
              "form_field49      float64\n",
              "form_field50      float64\n",
              "default_status      int64\n",
              "dtype: object"
            ]
          },
          "metadata": {
            "tags": []
          },
          "execution_count": 33
        }
      ]
    },
    {
      "cell_type": "code",
      "metadata": {
        "id": "ponZjt8pCMSy",
        "outputId": "78eced9b-3904-4839-b9a2-886259f19617",
        "colab": {
          "base_uri": "https://localhost:8080/",
          "height": 221
        }
      },
      "source": [
        "train['form_field3233']= (train.form_field32 + train.form_field33) / 2\n",
        "train.form_field3233"
      ],
      "execution_count": null,
      "outputs": [
        {
          "output_type": "execute_result",
          "data": {
            "text/plain": [
              "0         530.0000\n",
              "1        1285.7500\n",
              "2          35.3333\n",
              "3         264.9167\n",
              "4         136.5000\n",
              "           ...    \n",
              "55995     442.8333\n",
              "55996     128.3333\n",
              "55997     127.1667\n",
              "55998      80.7500\n",
              "55999     705.4167\n",
              "Name: form_field3233, Length: 56000, dtype: float64"
            ]
          },
          "metadata": {
            "tags": []
          },
          "execution_count": 34
        }
      ]
    },
    {
      "cell_type": "code",
      "metadata": {
        "id": "rB8dWuD-C2F2",
        "outputId": "825989f5-a31d-48e2-e0db-3b20066072c8",
        "colab": {
          "base_uri": "https://localhost:8080/",
          "height": 221
        }
      },
      "source": [
        "test['form_field3233']= (test.form_field32 + test.form_field33) / 2\n",
        "test.form_field3233"
      ],
      "execution_count": null,
      "outputs": [
        {
          "output_type": "execute_result",
          "data": {
            "text/plain": [
              "0         119.9167\n",
              "1         617.7500\n",
              "2       -4995.5833\n",
              "3         128.5000\n",
              "4        1202.3333\n",
              "           ...    \n",
              "23995      12.1667\n",
              "23996     300.0833\n",
              "23997     103.6667\n",
              "23998      32.3333\n",
              "23999     829.4167\n",
              "Name: form_field3233, Length: 24000, dtype: float64"
            ]
          },
          "metadata": {
            "tags": []
          },
          "execution_count": 35
        }
      ]
    },
    {
      "cell_type": "code",
      "metadata": {
        "id": "cdyr8Qvlc1yw"
      },
      "source": [
        "y= train['default_status']\n"
      ],
      "execution_count": null,
      "outputs": []
    },
    {
      "cell_type": "code",
      "metadata": {
        "id": "O6DZzpMTEEqv"
      },
      "source": [
        "train= train.drop(['form_field32', 'form_field33', 'Applicant_ID', 'default_status'], axis=1)\n",
        "test= test.drop(['form_field32', 'form_field33', 'Applicant_ID'], axis= 1)"
      ],
      "execution_count": null,
      "outputs": []
    },
    {
      "cell_type": "code",
      "metadata": {
        "id": "SV4g9ciYa89G"
      },
      "source": [
        "scaler = MinMaxScaler()\n",
        "scaling_train= DataFrame(scaler.fit_transform(train))\n",
        "#scaling_train = DataFrame(scaling_train)"
      ],
      "execution_count": null,
      "outputs": []
    },
    {
      "cell_type": "code",
      "metadata": {
        "id": "JuycJprmQU1Y"
      },
      "source": [
        "\n",
        "scaling_test= DataFrame(scaler.transform(test))\n",
        "#scaling_test = DataFrame(scaling_test)"
      ],
      "execution_count": null,
      "outputs": []
    },
    {
      "cell_type": "markdown",
      "metadata": {
        "id": "8BB-1e34Y8UG"
      },
      "source": [
        "## **MODELLING**"
      ]
    },
    {
      "cell_type": "code",
      "metadata": {
        "id": "xNVYFKI4SyLA"
      },
      "source": [
        "cb_params={\n",
        "    'n_estimators': 2500,\n",
        "    'learning_rate':0.01,\n",
        "    'random_seed': 3500,\n",
        "    'objective':'CrossEntropy',\n",
        "    'eval_metric': 'AUC',\n",
        "    'max_depth': 8,\n",
        "    'thread_count': -1,\n",
        "}"
      ],
      "execution_count": null,
      "outputs": []
    },
    {
      "cell_type": "code",
      "metadata": {
        "id": "18jeUUXpRIER"
      },
      "source": [
        "cb= CatBoostClassifier(verbose= False, random_state= 999)\n",
        "cb1= CatBoostClassifier(**cb_params)\n",
        "rgf= RGFClassifier(max_leaf= 1500)"
      ],
      "execution_count": null,
      "outputs": []
    },
    {
      "cell_type": "code",
      "metadata": {
        "id": "fTU5e4ktRIQJ"
      },
      "source": [
        "scorevalid, scoretest= [], []\n",
        "layers= StratifiedKFold(n_splits= 15, shuffle= True, random_state= 999)"
      ],
      "execution_count": null,
      "outputs": []
    },
    {
      "cell_type": "code",
      "metadata": {
        "id": "y4t6VNMWBc39"
      },
      "source": [
        "vote= VotingClassifier(estimators= [('rgf', rgf),('cb', cb),('cb1', cb1)],\n",
        "                                    voting= 'soft', n_jobs= -1)\n"
      ],
      "execution_count": null,
      "outputs": []
    },
    {
      "cell_type": "code",
      "metadata": {
        "id": "MGoOh2PgRH3l",
        "outputId": "f9af065c-25a5-4990-b14e-69d114845997",
        "colab": {
          "base_uri": "https://localhost:8080/",
          "height": 493
        }
      },
      "source": [
        "for  i, (trainvalue, valvalue) in enumerate (layers.split(scaling_train, y)):\n",
        "  train_x, val_x=  scaling_train.iloc[trainvalue], scaling_train.iloc[valvalue]\n",
        "  train_y, val_y= y.iloc[trainvalue], y.iloc[valvalue]\n",
        "  print('#'*50 + 'fold'+ str(i))\n",
        "\n",
        "  vote.fit(train_x, train_y)\n",
        "  pred= vote.predict_proba(val_x)[:,1]\n",
        "  valpred= roc_auc_score(val_y, pred)\n",
        "  scorevalid.append(valpred)\n",
        "\n",
        "  predict= vote.predict_proba(scaling_test)[:, 1]\n",
        "  scoretest.append(predict)\n"
      ],
      "execution_count": null,
      "outputs": [
        {
          "output_type": "stream",
          "text": [
            "##################################################fold0\n",
            "##################################################fold1\n",
            "##################################################fold2\n",
            "##################################################fold3\n",
            "##################################################fold4\n",
            "##################################################fold5\n",
            "##################################################fold6\n"
          ],
          "name": "stdout"
        },
        {
          "output_type": "error",
          "ename": "KeyboardInterrupt",
          "evalue": "ignored",
          "traceback": [
            "\u001b[0;31m---------------------------------------------------------------------------\u001b[0m",
            "\u001b[0;31mKeyboardInterrupt\u001b[0m                         Traceback (most recent call last)",
            "\u001b[0;32m<ipython-input-44-f802c9a1e1db>\u001b[0m in \u001b[0;36m<module>\u001b[0;34m()\u001b[0m\n\u001b[1;32m      4\u001b[0m   \u001b[0mprint\u001b[0m\u001b[0;34m(\u001b[0m\u001b[0;34m'#'\u001b[0m\u001b[0;34m*\u001b[0m\u001b[0;36m50\u001b[0m \u001b[0;34m+\u001b[0m \u001b[0;34m'fold'\u001b[0m\u001b[0;34m+\u001b[0m \u001b[0mstr\u001b[0m\u001b[0;34m(\u001b[0m\u001b[0mi\u001b[0m\u001b[0;34m)\u001b[0m\u001b[0;34m)\u001b[0m\u001b[0;34m\u001b[0m\u001b[0;34m\u001b[0m\u001b[0m\n\u001b[1;32m      5\u001b[0m \u001b[0;34m\u001b[0m\u001b[0m\n\u001b[0;32m----> 6\u001b[0;31m   \u001b[0mvote\u001b[0m\u001b[0;34m.\u001b[0m\u001b[0mfit\u001b[0m\u001b[0;34m(\u001b[0m\u001b[0mtrain_x\u001b[0m\u001b[0;34m,\u001b[0m \u001b[0mtrain_y\u001b[0m\u001b[0;34m)\u001b[0m\u001b[0;34m\u001b[0m\u001b[0;34m\u001b[0m\u001b[0m\n\u001b[0m\u001b[1;32m      7\u001b[0m   \u001b[0mpred\u001b[0m\u001b[0;34m=\u001b[0m \u001b[0mvote\u001b[0m\u001b[0;34m.\u001b[0m\u001b[0mpredict_proba\u001b[0m\u001b[0;34m(\u001b[0m\u001b[0mval_x\u001b[0m\u001b[0;34m)\u001b[0m\u001b[0;34m[\u001b[0m\u001b[0;34m:\u001b[0m\u001b[0;34m,\u001b[0m\u001b[0;36m1\u001b[0m\u001b[0;34m]\u001b[0m\u001b[0;34m\u001b[0m\u001b[0;34m\u001b[0m\u001b[0m\n\u001b[1;32m      8\u001b[0m   \u001b[0mvalpred\u001b[0m\u001b[0;34m=\u001b[0m \u001b[0mroc_auc_score\u001b[0m\u001b[0;34m(\u001b[0m\u001b[0mval_y\u001b[0m\u001b[0;34m,\u001b[0m \u001b[0mpred\u001b[0m\u001b[0;34m)\u001b[0m\u001b[0;34m\u001b[0m\u001b[0;34m\u001b[0m\u001b[0m\n",
            "\u001b[0;32m/usr/local/lib/python3.6/dist-packages/sklearn/ensemble/_voting.py\u001b[0m in \u001b[0;36mfit\u001b[0;34m(self, X, y, sample_weight)\u001b[0m\n\u001b[1;32m    220\u001b[0m         \u001b[0mtransformed_y\u001b[0m \u001b[0;34m=\u001b[0m \u001b[0mself\u001b[0m\u001b[0;34m.\u001b[0m\u001b[0mle_\u001b[0m\u001b[0;34m.\u001b[0m\u001b[0mtransform\u001b[0m\u001b[0;34m(\u001b[0m\u001b[0my\u001b[0m\u001b[0;34m)\u001b[0m\u001b[0;34m\u001b[0m\u001b[0;34m\u001b[0m\u001b[0m\n\u001b[1;32m    221\u001b[0m \u001b[0;34m\u001b[0m\u001b[0m\n\u001b[0;32m--> 222\u001b[0;31m         \u001b[0;32mreturn\u001b[0m \u001b[0msuper\u001b[0m\u001b[0;34m(\u001b[0m\u001b[0;34m)\u001b[0m\u001b[0;34m.\u001b[0m\u001b[0mfit\u001b[0m\u001b[0;34m(\u001b[0m\u001b[0mX\u001b[0m\u001b[0;34m,\u001b[0m \u001b[0mtransformed_y\u001b[0m\u001b[0;34m,\u001b[0m \u001b[0msample_weight\u001b[0m\u001b[0;34m)\u001b[0m\u001b[0;34m\u001b[0m\u001b[0;34m\u001b[0m\u001b[0m\n\u001b[0m\u001b[1;32m    223\u001b[0m \u001b[0;34m\u001b[0m\u001b[0m\n\u001b[1;32m    224\u001b[0m     \u001b[0;32mdef\u001b[0m \u001b[0mpredict\u001b[0m\u001b[0;34m(\u001b[0m\u001b[0mself\u001b[0m\u001b[0;34m,\u001b[0m \u001b[0mX\u001b[0m\u001b[0;34m)\u001b[0m\u001b[0;34m:\u001b[0m\u001b[0;34m\u001b[0m\u001b[0;34m\u001b[0m\u001b[0m\n",
            "\u001b[0;32m/usr/local/lib/python3.6/dist-packages/sklearn/ensemble/_voting.py\u001b[0m in \u001b[0;36mfit\u001b[0;34m(self, X, y, sample_weight)\u001b[0m\n\u001b[1;32m     66\u001b[0m                 delayed(_parallel_fit_estimator)(clone(clf), X, y,\n\u001b[1;32m     67\u001b[0m                                                  sample_weight=sample_weight)\n\u001b[0;32m---> 68\u001b[0;31m                 \u001b[0;32mfor\u001b[0m \u001b[0mclf\u001b[0m \u001b[0;32min\u001b[0m \u001b[0mclfs\u001b[0m \u001b[0;32mif\u001b[0m \u001b[0mclf\u001b[0m \u001b[0;32mnot\u001b[0m \u001b[0;32min\u001b[0m \u001b[0;34m(\u001b[0m\u001b[0;32mNone\u001b[0m\u001b[0;34m,\u001b[0m \u001b[0;34m'drop'\u001b[0m\u001b[0;34m)\u001b[0m\u001b[0;34m\u001b[0m\u001b[0;34m\u001b[0m\u001b[0m\n\u001b[0m\u001b[1;32m     69\u001b[0m             )\n\u001b[1;32m     70\u001b[0m \u001b[0;34m\u001b[0m\u001b[0m\n",
            "\u001b[0;32m/usr/local/lib/python3.6/dist-packages/joblib/parallel.py\u001b[0m in \u001b[0;36m__call__\u001b[0;34m(self, iterable)\u001b[0m\n\u001b[1;32m   1040\u001b[0m \u001b[0;34m\u001b[0m\u001b[0m\n\u001b[1;32m   1041\u001b[0m             \u001b[0;32mwith\u001b[0m \u001b[0mself\u001b[0m\u001b[0;34m.\u001b[0m\u001b[0m_backend\u001b[0m\u001b[0;34m.\u001b[0m\u001b[0mretrieval_context\u001b[0m\u001b[0;34m(\u001b[0m\u001b[0;34m)\u001b[0m\u001b[0;34m:\u001b[0m\u001b[0;34m\u001b[0m\u001b[0;34m\u001b[0m\u001b[0m\n\u001b[0;32m-> 1042\u001b[0;31m                 \u001b[0mself\u001b[0m\u001b[0;34m.\u001b[0m\u001b[0mretrieve\u001b[0m\u001b[0;34m(\u001b[0m\u001b[0;34m)\u001b[0m\u001b[0;34m\u001b[0m\u001b[0;34m\u001b[0m\u001b[0m\n\u001b[0m\u001b[1;32m   1043\u001b[0m             \u001b[0;31m# Make sure that we get a last message telling us we are done\u001b[0m\u001b[0;34m\u001b[0m\u001b[0;34m\u001b[0m\u001b[0;34m\u001b[0m\u001b[0m\n\u001b[1;32m   1044\u001b[0m             \u001b[0melapsed_time\u001b[0m \u001b[0;34m=\u001b[0m \u001b[0mtime\u001b[0m\u001b[0;34m.\u001b[0m\u001b[0mtime\u001b[0m\u001b[0;34m(\u001b[0m\u001b[0;34m)\u001b[0m \u001b[0;34m-\u001b[0m \u001b[0mself\u001b[0m\u001b[0;34m.\u001b[0m\u001b[0m_start_time\u001b[0m\u001b[0;34m\u001b[0m\u001b[0;34m\u001b[0m\u001b[0m\n",
            "\u001b[0;32m/usr/local/lib/python3.6/dist-packages/joblib/parallel.py\u001b[0m in \u001b[0;36mretrieve\u001b[0;34m(self)\u001b[0m\n\u001b[1;32m    919\u001b[0m             \u001b[0;32mtry\u001b[0m\u001b[0;34m:\u001b[0m\u001b[0;34m\u001b[0m\u001b[0;34m\u001b[0m\u001b[0m\n\u001b[1;32m    920\u001b[0m                 \u001b[0;32mif\u001b[0m \u001b[0mgetattr\u001b[0m\u001b[0;34m(\u001b[0m\u001b[0mself\u001b[0m\u001b[0;34m.\u001b[0m\u001b[0m_backend\u001b[0m\u001b[0;34m,\u001b[0m \u001b[0;34m'supports_timeout'\u001b[0m\u001b[0;34m,\u001b[0m \u001b[0;32mFalse\u001b[0m\u001b[0;34m)\u001b[0m\u001b[0;34m:\u001b[0m\u001b[0;34m\u001b[0m\u001b[0;34m\u001b[0m\u001b[0m\n\u001b[0;32m--> 921\u001b[0;31m                     \u001b[0mself\u001b[0m\u001b[0;34m.\u001b[0m\u001b[0m_output\u001b[0m\u001b[0;34m.\u001b[0m\u001b[0mextend\u001b[0m\u001b[0;34m(\u001b[0m\u001b[0mjob\u001b[0m\u001b[0;34m.\u001b[0m\u001b[0mget\u001b[0m\u001b[0;34m(\u001b[0m\u001b[0mtimeout\u001b[0m\u001b[0;34m=\u001b[0m\u001b[0mself\u001b[0m\u001b[0;34m.\u001b[0m\u001b[0mtimeout\u001b[0m\u001b[0;34m)\u001b[0m\u001b[0;34m)\u001b[0m\u001b[0;34m\u001b[0m\u001b[0;34m\u001b[0m\u001b[0m\n\u001b[0m\u001b[1;32m    922\u001b[0m                 \u001b[0;32melse\u001b[0m\u001b[0;34m:\u001b[0m\u001b[0;34m\u001b[0m\u001b[0;34m\u001b[0m\u001b[0m\n\u001b[1;32m    923\u001b[0m                     \u001b[0mself\u001b[0m\u001b[0;34m.\u001b[0m\u001b[0m_output\u001b[0m\u001b[0;34m.\u001b[0m\u001b[0mextend\u001b[0m\u001b[0;34m(\u001b[0m\u001b[0mjob\u001b[0m\u001b[0;34m.\u001b[0m\u001b[0mget\u001b[0m\u001b[0;34m(\u001b[0m\u001b[0;34m)\u001b[0m\u001b[0;34m)\u001b[0m\u001b[0;34m\u001b[0m\u001b[0;34m\u001b[0m\u001b[0m\n",
            "\u001b[0;32m/usr/local/lib/python3.6/dist-packages/joblib/_parallel_backends.py\u001b[0m in \u001b[0;36mwrap_future_result\u001b[0;34m(future, timeout)\u001b[0m\n\u001b[1;32m    540\u001b[0m         AsyncResults.get from multiprocessing.\"\"\"\n\u001b[1;32m    541\u001b[0m         \u001b[0;32mtry\u001b[0m\u001b[0;34m:\u001b[0m\u001b[0;34m\u001b[0m\u001b[0;34m\u001b[0m\u001b[0m\n\u001b[0;32m--> 542\u001b[0;31m             \u001b[0;32mreturn\u001b[0m \u001b[0mfuture\u001b[0m\u001b[0;34m.\u001b[0m\u001b[0mresult\u001b[0m\u001b[0;34m(\u001b[0m\u001b[0mtimeout\u001b[0m\u001b[0;34m=\u001b[0m\u001b[0mtimeout\u001b[0m\u001b[0;34m)\u001b[0m\u001b[0;34m\u001b[0m\u001b[0;34m\u001b[0m\u001b[0m\n\u001b[0m\u001b[1;32m    543\u001b[0m         \u001b[0;32mexcept\u001b[0m \u001b[0mCfTimeoutError\u001b[0m \u001b[0;32mas\u001b[0m \u001b[0me\u001b[0m\u001b[0;34m:\u001b[0m\u001b[0;34m\u001b[0m\u001b[0;34m\u001b[0m\u001b[0m\n\u001b[1;32m    544\u001b[0m             \u001b[0;32mraise\u001b[0m \u001b[0mTimeoutError\u001b[0m \u001b[0;32mfrom\u001b[0m \u001b[0me\u001b[0m\u001b[0;34m\u001b[0m\u001b[0;34m\u001b[0m\u001b[0m\n",
            "\u001b[0;32m/usr/lib/python3.6/concurrent/futures/_base.py\u001b[0m in \u001b[0;36mresult\u001b[0;34m(self, timeout)\u001b[0m\n\u001b[1;32m    425\u001b[0m                 \u001b[0;32mreturn\u001b[0m \u001b[0mself\u001b[0m\u001b[0;34m.\u001b[0m\u001b[0m__get_result\u001b[0m\u001b[0;34m(\u001b[0m\u001b[0;34m)\u001b[0m\u001b[0;34m\u001b[0m\u001b[0;34m\u001b[0m\u001b[0m\n\u001b[1;32m    426\u001b[0m \u001b[0;34m\u001b[0m\u001b[0m\n\u001b[0;32m--> 427\u001b[0;31m             \u001b[0mself\u001b[0m\u001b[0;34m.\u001b[0m\u001b[0m_condition\u001b[0m\u001b[0;34m.\u001b[0m\u001b[0mwait\u001b[0m\u001b[0;34m(\u001b[0m\u001b[0mtimeout\u001b[0m\u001b[0;34m)\u001b[0m\u001b[0;34m\u001b[0m\u001b[0;34m\u001b[0m\u001b[0m\n\u001b[0m\u001b[1;32m    428\u001b[0m \u001b[0;34m\u001b[0m\u001b[0m\n\u001b[1;32m    429\u001b[0m             \u001b[0;32mif\u001b[0m \u001b[0mself\u001b[0m\u001b[0;34m.\u001b[0m\u001b[0m_state\u001b[0m \u001b[0;32min\u001b[0m \u001b[0;34m[\u001b[0m\u001b[0mCANCELLED\u001b[0m\u001b[0;34m,\u001b[0m \u001b[0mCANCELLED_AND_NOTIFIED\u001b[0m\u001b[0;34m]\u001b[0m\u001b[0;34m:\u001b[0m\u001b[0;34m\u001b[0m\u001b[0;34m\u001b[0m\u001b[0m\n",
            "\u001b[0;32m/usr/lib/python3.6/threading.py\u001b[0m in \u001b[0;36mwait\u001b[0;34m(self, timeout)\u001b[0m\n\u001b[1;32m    293\u001b[0m         \u001b[0;32mtry\u001b[0m\u001b[0;34m:\u001b[0m    \u001b[0;31m# restore state no matter what (e.g., KeyboardInterrupt)\u001b[0m\u001b[0;34m\u001b[0m\u001b[0;34m\u001b[0m\u001b[0m\n\u001b[1;32m    294\u001b[0m             \u001b[0;32mif\u001b[0m \u001b[0mtimeout\u001b[0m \u001b[0;32mis\u001b[0m \u001b[0;32mNone\u001b[0m\u001b[0;34m:\u001b[0m\u001b[0;34m\u001b[0m\u001b[0;34m\u001b[0m\u001b[0m\n\u001b[0;32m--> 295\u001b[0;31m                 \u001b[0mwaiter\u001b[0m\u001b[0;34m.\u001b[0m\u001b[0macquire\u001b[0m\u001b[0;34m(\u001b[0m\u001b[0;34m)\u001b[0m\u001b[0;34m\u001b[0m\u001b[0;34m\u001b[0m\u001b[0m\n\u001b[0m\u001b[1;32m    296\u001b[0m                 \u001b[0mgotit\u001b[0m \u001b[0;34m=\u001b[0m \u001b[0;32mTrue\u001b[0m\u001b[0;34m\u001b[0m\u001b[0;34m\u001b[0m\u001b[0m\n\u001b[1;32m    297\u001b[0m             \u001b[0;32melse\u001b[0m\u001b[0;34m:\u001b[0m\u001b[0;34m\u001b[0m\u001b[0;34m\u001b[0m\u001b[0m\n",
            "\u001b[0;31mKeyboardInterrupt\u001b[0m: "
          ]
        }
      ]
    },
    {
      "cell_type": "code",
      "metadata": {
        "id": "krzbEmlUi1NL",
        "outputId": "ef215b5f-b0da-4826-d5d7-564d79c2861c",
        "colab": {
          "base_uri": "https://localhost:8080/",
          "height": 34
        }
      },
      "source": [
        "print(np.mean(scorevalid))"
      ],
      "execution_count": null,
      "outputs": [
        {
          "output_type": "stream",
          "text": [
            "0.8418853836359738\n"
          ],
          "name": "stdout"
        }
      ]
    },
    {
      "cell_type": "code",
      "metadata": {
        "id": "i5UxzeweC3M1"
      },
      "source": [
        "result= pd.DataFrame(scorevalid).T"
      ],
      "execution_count": null,
      "outputs": []
    },
    {
      "cell_type": "code",
      "metadata": {
        "id": "6PD_2MpCC_3N",
        "outputId": "7443db35-1748-4271-82b7-0ce2c8c5571a",
        "colab": {
          "base_uri": "https://localhost:8080/",
          "height": 80
        }
      },
      "source": [
        "result.head()"
      ],
      "execution_count": null,
      "outputs": [
        {
          "output_type": "execute_result",
          "data": {
            "text/html": [
              "<div>\n",
              "<style scoped>\n",
              "    .dataframe tbody tr th:only-of-type {\n",
              "        vertical-align: middle;\n",
              "    }\n",
              "\n",
              "    .dataframe tbody tr th {\n",
              "        vertical-align: top;\n",
              "    }\n",
              "\n",
              "    .dataframe thead th {\n",
              "        text-align: right;\n",
              "    }\n",
              "</style>\n",
              "<table border=\"1\" class=\"dataframe\">\n",
              "  <thead>\n",
              "    <tr style=\"text-align: right;\">\n",
              "      <th></th>\n",
              "      <th>0</th>\n",
              "      <th>1</th>\n",
              "      <th>2</th>\n",
              "      <th>3</th>\n",
              "      <th>4</th>\n",
              "      <th>5</th>\n",
              "    </tr>\n",
              "  </thead>\n",
              "  <tbody>\n",
              "    <tr>\n",
              "      <th>0</th>\n",
              "      <td>0.838702</td>\n",
              "      <td>0.837054</td>\n",
              "      <td>0.837183</td>\n",
              "      <td>0.85715</td>\n",
              "      <td>0.831567</td>\n",
              "      <td>0.849656</td>\n",
              "    </tr>\n",
              "  </tbody>\n",
              "</table>\n",
              "</div>"
            ],
            "text/plain": [
              "          0         1         2        3         4         5\n",
              "0  0.838702  0.837054  0.837183  0.85715  0.831567  0.849656"
            ]
          },
          "metadata": {
            "tags": []
          },
          "execution_count": 47
        }
      ]
    },
    {
      "cell_type": "code",
      "metadata": {
        "id": "TqEMiYA2h8N-",
        "outputId": "b015a1ef-de96-40b3-8bf3-494cb1bcfd7e",
        "colab": {
          "base_uri": "https://localhost:8080/",
          "height": 221
        }
      },
      "source": [
        "scoretest"
      ],
      "execution_count": null,
      "outputs": [
        {
          "output_type": "execute_result",
          "data": {
            "text/plain": [
              "[array([0.32286979, 0.37420155, 0.39003947, ..., 0.24229055, 0.50536655,\n",
              "        0.19979786]),\n",
              " array([0.27063964, 0.36964379, 0.4186009 , ..., 0.2819921 , 0.53855351,\n",
              "        0.19727601]),\n",
              " array([0.27084121, 0.33637304, 0.40804398, ..., 0.26095072, 0.53776363,\n",
              "        0.18126886]),\n",
              " array([0.28929936, 0.33305792, 0.40018038, ..., 0.26331023, 0.5052118 ,\n",
              "        0.19677236]),\n",
              " array([0.30875548, 0.37192853, 0.3838298 , ..., 0.27593839, 0.51276986,\n",
              "        0.17880853]),\n",
              " array([0.29805062, 0.35934191, 0.41514548, ..., 0.27372134, 0.50943186,\n",
              "        0.18180187])]"
            ]
          },
          "metadata": {
            "tags": []
          },
          "execution_count": 48
        }
      ]
    },
    {
      "cell_type": "code",
      "metadata": {
        "id": "fr5EfANCi04I"
      },
      "source": [
        "\n",
        "final_pred= np.mean(scoretest, axis=0)"
      ],
      "execution_count": null,
      "outputs": []
    },
    {
      "cell_type": "code",
      "metadata": {
        "id": "KRcP1k8jBbbe",
        "outputId": "79a59a37-b3f3-4a47-b1a5-7dad6ecae19c",
        "colab": {
          "base_uri": "https://localhost:8080/",
          "height": 204
        }
      },
      "source": [
        "sub= pd.read_csv('/content/drive/My Drive/Bootcamp2020/SampleSubmission.csv')\n",
        "sub.head()"
      ],
      "execution_count": null,
      "outputs": [
        {
          "output_type": "execute_result",
          "data": {
            "text/html": [
              "<div>\n",
              "<style scoped>\n",
              "    .dataframe tbody tr th:only-of-type {\n",
              "        vertical-align: middle;\n",
              "    }\n",
              "\n",
              "    .dataframe tbody tr th {\n",
              "        vertical-align: top;\n",
              "    }\n",
              "\n",
              "    .dataframe thead th {\n",
              "        text-align: right;\n",
              "    }\n",
              "</style>\n",
              "<table border=\"1\" class=\"dataframe\">\n",
              "  <thead>\n",
              "    <tr style=\"text-align: right;\">\n",
              "      <th></th>\n",
              "      <th>Applicant_ID</th>\n",
              "      <th>default_status</th>\n",
              "    </tr>\n",
              "  </thead>\n",
              "  <tbody>\n",
              "    <tr>\n",
              "      <th>0</th>\n",
              "      <td>Apcnt_1000032</td>\n",
              "      <td>1</td>\n",
              "    </tr>\n",
              "    <tr>\n",
              "      <th>1</th>\n",
              "      <td>Apcnt_1000048</td>\n",
              "      <td>1</td>\n",
              "    </tr>\n",
              "    <tr>\n",
              "      <th>2</th>\n",
              "      <td>Apcnt_1000052</td>\n",
              "      <td>1</td>\n",
              "    </tr>\n",
              "    <tr>\n",
              "      <th>3</th>\n",
              "      <td>Apcnt_1000076</td>\n",
              "      <td>1</td>\n",
              "    </tr>\n",
              "    <tr>\n",
              "      <th>4</th>\n",
              "      <td>Apcnt_1000080</td>\n",
              "      <td>1</td>\n",
              "    </tr>\n",
              "  </tbody>\n",
              "</table>\n",
              "</div>"
            ],
            "text/plain": [
              "    Applicant_ID  default_status\n",
              "0  Apcnt_1000032               1\n",
              "1  Apcnt_1000048               1\n",
              "2  Apcnt_1000052               1\n",
              "3  Apcnt_1000076               1\n",
              "4  Apcnt_1000080               1"
            ]
          },
          "metadata": {
            "tags": []
          },
          "execution_count": 50
        }
      ]
    },
    {
      "cell_type": "code",
      "metadata": {
        "id": "-fIqvZdhI5uQ",
        "outputId": "e35e4898-8053-44bc-c461-20c4eaf76bdd",
        "colab": {
          "base_uri": "https://localhost:8080/",
          "height": 204
        }
      },
      "source": [
        "sub['default_status']= final_pred\n",
        "sub.head()"
      ],
      "execution_count": null,
      "outputs": [
        {
          "output_type": "execute_result",
          "data": {
            "text/html": [
              "<div>\n",
              "<style scoped>\n",
              "    .dataframe tbody tr th:only-of-type {\n",
              "        vertical-align: middle;\n",
              "    }\n",
              "\n",
              "    .dataframe tbody tr th {\n",
              "        vertical-align: top;\n",
              "    }\n",
              "\n",
              "    .dataframe thead th {\n",
              "        text-align: right;\n",
              "    }\n",
              "</style>\n",
              "<table border=\"1\" class=\"dataframe\">\n",
              "  <thead>\n",
              "    <tr style=\"text-align: right;\">\n",
              "      <th></th>\n",
              "      <th>Applicant_ID</th>\n",
              "      <th>default_status</th>\n",
              "    </tr>\n",
              "  </thead>\n",
              "  <tbody>\n",
              "    <tr>\n",
              "      <th>0</th>\n",
              "      <td>Apcnt_1000032</td>\n",
              "      <td>0.293409</td>\n",
              "    </tr>\n",
              "    <tr>\n",
              "      <th>1</th>\n",
              "      <td>Apcnt_1000048</td>\n",
              "      <td>0.357424</td>\n",
              "    </tr>\n",
              "    <tr>\n",
              "      <th>2</th>\n",
              "      <td>Apcnt_1000052</td>\n",
              "      <td>0.402640</td>\n",
              "    </tr>\n",
              "    <tr>\n",
              "      <th>3</th>\n",
              "      <td>Apcnt_1000076</td>\n",
              "      <td>0.768291</td>\n",
              "    </tr>\n",
              "    <tr>\n",
              "      <th>4</th>\n",
              "      <td>Apcnt_1000080</td>\n",
              "      <td>0.169281</td>\n",
              "    </tr>\n",
              "  </tbody>\n",
              "</table>\n",
              "</div>"
            ],
            "text/plain": [
              "    Applicant_ID  default_status\n",
              "0  Apcnt_1000032        0.293409\n",
              "1  Apcnt_1000048        0.357424\n",
              "2  Apcnt_1000052        0.402640\n",
              "3  Apcnt_1000076        0.768291\n",
              "4  Apcnt_1000080        0.169281"
            ]
          },
          "metadata": {
            "tags": []
          },
          "execution_count": 51
        }
      ]
    },
    {
      "cell_type": "code",
      "metadata": {
        "id": "F5R-0oh1mMDt"
      },
      "source": [
        "sub.to_csv('finale.csv', index = False)"
      ],
      "execution_count": null,
      "outputs": []
    }
  ]
}